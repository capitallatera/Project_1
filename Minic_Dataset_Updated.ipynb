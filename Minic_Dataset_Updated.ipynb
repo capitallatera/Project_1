{
  "nbformat": 4,
  "nbformat_minor": 0,
  "metadata": {
    "colab": {
      "name": "Minic Dataset Updated.ipynb",
      "provenance": [],
      "collapsed_sections": [],
      "authorship_tag": "ABX9TyPK8wYJyvksmZF57aw/c89+",
      "include_colab_link": true
    },
    "kernelspec": {
      "name": "python3",
      "display_name": "Python 3"
    }
  },
  "cells": [
    {
      "cell_type": "markdown",
      "metadata": {
        "id": "view-in-github",
        "colab_type": "text"
      },
      "source": [
        "<a href=\"https://colab.research.google.com/github/capitallatera/Project_1/blob/master/Minic_Dataset_Updated.ipynb\" target=\"_parent\"><img src=\"https://colab.research.google.com/assets/colab-badge.svg\" alt=\"Open In Colab\"/></a>"
      ]
    },
    {
      "cell_type": "code",
      "metadata": {
        "id": "iKo2-h_TSTEO"
      },
      "source": [
        "# if not installed\n",
        "# pip3 install psycopg2"
      ],
      "execution_count": null,
      "outputs": []
    },
    {
      "cell_type": "code",
      "metadata": {
        "id": "KiqOb7HOM_XV"
      },
      "source": [
        "# Importing Libraries\n",
        "import psycopg2\n",
        "import pandas as pd\n",
        "import seaborn as sns\n",
        "import matplotlib.pyplot as plt"
      ],
      "execution_count": null,
      "outputs": []
    },
    {
      "cell_type": "code",
      "metadata": {
        "colab": {
          "base_uri": "https://localhost:8080/"
        },
        "id": "HfzS2fw_b9jo",
        "outputId": "f9b6df29-73b0-4c59-e4c6-af67d8a6b2fc"
      },
      "source": [
        "# Connecting the Database\n",
        "con = psycopg2.connect(database=\"mimic\", user=\"datascientist\", password=\"candidate\", host=\"3.7.155.14\", port=\"5432\")\n",
        "print(\"Database opened Successfully\")"
      ],
      "execution_count": null,
      "outputs": [
        {
          "output_type": "stream",
          "text": [
            "Database opened Successfully\n"
          ],
          "name": "stdout"
        }
      ]
    },
    {
      "cell_type": "code",
      "metadata": {
        "id": "1Ghr-0p-a-C7"
      },
      "source": [
        "# Fetching the data \n",
        "query='SET search_path to mimiciii; select * from sofa '\n",
        "# DataFrame\n",
        "df=pd.read_sql_query(query,con) "
      ],
      "execution_count": null,
      "outputs": []
    },
    {
      "cell_type": "markdown",
      "metadata": {
        "id": "ylkHlhYnayI7"
      },
      "source": [
        "Questions 1"
      ]
    },
    {
      "cell_type": "code",
      "metadata": {
        "colab": {
          "base_uri": "https://localhost:8080/",
          "height": 204
        },
        "id": "cObb0fniSFBv",
        "outputId": "4095e6a3-c592-4f4e-ea87-c7e2e9a22480"
      },
      "source": [
        "# Elements need for calculating sofa score\n",
        "columns=['respiration','coagulation', 'liver', 'cardiovascular', 'cns', 'renal']    \n",
        "# Creating DataFrame\n",
        "df_1=pd.DataFrame(df[columns])         \n",
        "# filling the null values\n",
        "df_1.fillna(0,inplace=True)\n",
        "# showing tables\n",
        "df_1.head()"
      ],
      "execution_count": null,
      "outputs": [
        {
          "output_type": "execute_result",
          "data": {
            "text/html": [
              "<div>\n",
              "<style scoped>\n",
              "    .dataframe tbody tr th:only-of-type {\n",
              "        vertical-align: middle;\n",
              "    }\n",
              "\n",
              "    .dataframe tbody tr th {\n",
              "        vertical-align: top;\n",
              "    }\n",
              "\n",
              "    .dataframe thead th {\n",
              "        text-align: right;\n",
              "    }\n",
              "</style>\n",
              "<table border=\"1\" class=\"dataframe\">\n",
              "  <thead>\n",
              "    <tr style=\"text-align: right;\">\n",
              "      <th></th>\n",
              "      <th>respiration</th>\n",
              "      <th>coagulation</th>\n",
              "      <th>liver</th>\n",
              "      <th>cardiovascular</th>\n",
              "      <th>cns</th>\n",
              "      <th>renal</th>\n",
              "    </tr>\n",
              "  </thead>\n",
              "  <tbody>\n",
              "    <tr>\n",
              "      <th>0</th>\n",
              "      <td>0.0</td>\n",
              "      <td>1.0</td>\n",
              "      <td>0.0</td>\n",
              "      <td>1.0</td>\n",
              "      <td>1.0</td>\n",
              "      <td>3.0</td>\n",
              "    </tr>\n",
              "    <tr>\n",
              "      <th>1</th>\n",
              "      <td>2.0</td>\n",
              "      <td>1.0</td>\n",
              "      <td>2.0</td>\n",
              "      <td>1.0</td>\n",
              "      <td>0.0</td>\n",
              "      <td>0.0</td>\n",
              "    </tr>\n",
              "    <tr>\n",
              "      <th>2</th>\n",
              "      <td>0.0</td>\n",
              "      <td>0.0</td>\n",
              "      <td>0.0</td>\n",
              "      <td>1.0</td>\n",
              "      <td>0.0</td>\n",
              "      <td>0.0</td>\n",
              "    </tr>\n",
              "    <tr>\n",
              "      <th>3</th>\n",
              "      <td>0.0</td>\n",
              "      <td>0.0</td>\n",
              "      <td>0.0</td>\n",
              "      <td>1.0</td>\n",
              "      <td>0.0</td>\n",
              "      <td>0.0</td>\n",
              "    </tr>\n",
              "    <tr>\n",
              "      <th>4</th>\n",
              "      <td>0.0</td>\n",
              "      <td>2.0</td>\n",
              "      <td>0.0</td>\n",
              "      <td>1.0</td>\n",
              "      <td>0.0</td>\n",
              "      <td>0.0</td>\n",
              "    </tr>\n",
              "  </tbody>\n",
              "</table>\n",
              "</div>"
            ],
            "text/plain": [
              "   respiration  coagulation  liver  cardiovascular  cns  renal\n",
              "0          0.0          1.0    0.0             1.0  1.0    3.0\n",
              "1          2.0          1.0    2.0             1.0  0.0    0.0\n",
              "2          0.0          0.0    0.0             1.0  0.0    0.0\n",
              "3          0.0          0.0    0.0             1.0  0.0    0.0\n",
              "4          0.0          2.0    0.0             1.0  0.0    0.0"
            ]
          },
          "metadata": {
            "tags": []
          },
          "execution_count": 44
        }
      ]
    },
    {
      "cell_type": "markdown",
      "metadata": {
        "id": "Xj13jD63cZ7c"
      },
      "source": [
        "Calculating Sofa Score"
      ]
    },
    {
      "cell_type": "code",
      "metadata": {
        "id": "C8dIInIecKwM"
      },
      "source": [
        "# Computing Sofa Score\n",
        "df_2=df_1.assign(score=lambda x:(x['respiration']+x['coagulation']+x['liver']+x['cardiovascular']+x['cns']+x['renal']))"
      ],
      "execution_count": null,
      "outputs": []
    },
    {
      "cell_type": "code",
      "metadata": {
        "colab": {
          "base_uri": "https://localhost:8080/",
          "height": 204
        },
        "id": "weLB87kGcgmb",
        "outputId": "a1b09375-24f0-49a3-8f56-2a525536752b"
      },
      "source": [
        "# Displaying sofa score column\n",
        "df_2.head() "
      ],
      "execution_count": null,
      "outputs": [
        {
          "output_type": "execute_result",
          "data": {
            "text/html": [
              "<div>\n",
              "<style scoped>\n",
              "    .dataframe tbody tr th:only-of-type {\n",
              "        vertical-align: middle;\n",
              "    }\n",
              "\n",
              "    .dataframe tbody tr th {\n",
              "        vertical-align: top;\n",
              "    }\n",
              "\n",
              "    .dataframe thead th {\n",
              "        text-align: right;\n",
              "    }\n",
              "</style>\n",
              "<table border=\"1\" class=\"dataframe\">\n",
              "  <thead>\n",
              "    <tr style=\"text-align: right;\">\n",
              "      <th></th>\n",
              "      <th>respiration</th>\n",
              "      <th>coagulation</th>\n",
              "      <th>liver</th>\n",
              "      <th>cardiovascular</th>\n",
              "      <th>cns</th>\n",
              "      <th>renal</th>\n",
              "      <th>score</th>\n",
              "    </tr>\n",
              "  </thead>\n",
              "  <tbody>\n",
              "    <tr>\n",
              "      <th>0</th>\n",
              "      <td>0.0</td>\n",
              "      <td>1.0</td>\n",
              "      <td>0.0</td>\n",
              "      <td>1.0</td>\n",
              "      <td>1.0</td>\n",
              "      <td>3.0</td>\n",
              "      <td>6.0</td>\n",
              "    </tr>\n",
              "    <tr>\n",
              "      <th>1</th>\n",
              "      <td>2.0</td>\n",
              "      <td>1.0</td>\n",
              "      <td>2.0</td>\n",
              "      <td>1.0</td>\n",
              "      <td>0.0</td>\n",
              "      <td>0.0</td>\n",
              "      <td>6.0</td>\n",
              "    </tr>\n",
              "    <tr>\n",
              "      <th>2</th>\n",
              "      <td>0.0</td>\n",
              "      <td>0.0</td>\n",
              "      <td>0.0</td>\n",
              "      <td>1.0</td>\n",
              "      <td>0.0</td>\n",
              "      <td>0.0</td>\n",
              "      <td>1.0</td>\n",
              "    </tr>\n",
              "    <tr>\n",
              "      <th>3</th>\n",
              "      <td>0.0</td>\n",
              "      <td>0.0</td>\n",
              "      <td>0.0</td>\n",
              "      <td>1.0</td>\n",
              "      <td>0.0</td>\n",
              "      <td>0.0</td>\n",
              "      <td>1.0</td>\n",
              "    </tr>\n",
              "    <tr>\n",
              "      <th>4</th>\n",
              "      <td>0.0</td>\n",
              "      <td>2.0</td>\n",
              "      <td>0.0</td>\n",
              "      <td>1.0</td>\n",
              "      <td>0.0</td>\n",
              "      <td>0.0</td>\n",
              "      <td>3.0</td>\n",
              "    </tr>\n",
              "  </tbody>\n",
              "</table>\n",
              "</div>"
            ],
            "text/plain": [
              "   respiration  coagulation  liver  cardiovascular  cns  renal  score\n",
              "0          0.0          1.0    0.0             1.0  1.0    3.0    6.0\n",
              "1          2.0          1.0    2.0             1.0  0.0    0.0    6.0\n",
              "2          0.0          0.0    0.0             1.0  0.0    0.0    1.0\n",
              "3          0.0          0.0    0.0             1.0  0.0    0.0    1.0\n",
              "4          0.0          2.0    0.0             1.0  0.0    0.0    3.0"
            ]
          },
          "metadata": {
            "tags": []
          },
          "execution_count": 46
        }
      ]
    },
    {
      "cell_type": "markdown",
      "metadata": {
        "id": "iIsDf4appj4t"
      },
      "source": [
        "Visualization"
      ]
    },
    {
      "cell_type": "code",
      "metadata": {
        "colab": {
          "base_uri": "https://localhost:8080/",
          "height": 386
        },
        "id": "EckVJqRRpixh",
        "outputId": "076dfcb2-bc3b-458c-9479-a712d8a865fc"
      },
      "source": [
        "# Plotting the Sofa score\n",
        "sns.displot(df_2,x=\"score\",binwidth=1,color='#817123')"
      ],
      "execution_count": null,
      "outputs": [
        {
          "output_type": "execute_result",
          "data": {
            "text/plain": [
              "<seaborn.axisgrid.FacetGrid at 0x7f5b558d5cc0>"
            ]
          },
          "metadata": {
            "tags": []
          },
          "execution_count": 57
        },
        {
          "output_type": "display_data",
          "data": {
            "image/png": "[encoded data removed]",
            "text/plain": [
              "<Figure size 360x360 with 1 Axes>"
            ]
          },
          "metadata": {
            "tags": [],
            "needs_background": "light"
          }
        }
      ]
    },
    {
      "cell_type": "code",
      "metadata": {
        "id": "psBJOE0Ep-1V"
      },
      "source": [
        "# Fetching the data\n",
        "query='SET search_path to mimiciii; select * from admissions '\n",
        "df=pd.read_sql_query(query,con)"
      ],
      "execution_count": null,
      "outputs": []
    },
    {
      "cell_type": "markdown",
      "metadata": {
        "id": "pwBxjIhtp8eI"
      },
      "source": [
        "Question 2"
      ]
    },
    {
      "cell_type": "code",
      "metadata": {
        "colab": {
          "base_uri": "https://localhost:8080/"
        },
        "id": "Nme9bpZcqInk",
        "outputId": "521d58dc-11ef-4bdf-93c1-fe970152bf0f"
      },
      "source": [
        "# Total Admissions\n",
        "print(\"The Total number of Admissions are {}\".format(df.shape[0]))"
      ],
      "execution_count": null,
      "outputs": [
        {
          "output_type": "stream",
          "text": [
            "The Total number of Admissions are 58976\n"
          ],
          "name": "stdout"
        }
      ]
    },
    {
      "cell_type": "markdown",
      "metadata": {
        "id": "99XTgJR2qgQw"
      },
      "source": [
        "Question 3"
      ]
    },
    {
      "cell_type": "code",
      "metadata": {
        "colab": {
          "base_uri": "https://localhost:8080/"
        },
        "id": "OglMaoeRqidH",
        "outputId": "0425ffb5-511d-4996-eba9-30d85c53abb0"
      },
      "source": [
        "# Admissions under Energency\n",
        "percentage=(df[df.admission_type==\"EMERGENCY\"].shape[0]/df.shape[0])*100\n",
        "print(\"Percentage of Admissions was under Emergency {}\".format(round(percentage,2)))"
      ],
      "execution_count": null,
      "outputs": [
        {
          "output_type": "stream",
          "text": [
            "Percentage of Admissions was under Emergency 71.34\n"
          ],
          "name": "stdout"
        }
      ]
    },
    {
      "cell_type": "markdown",
      "metadata": {
        "id": "I9whQMBrq-Es"
      },
      "source": [
        "Question 4"
      ]
    },
    {
      "cell_type": "code",
      "metadata": {
        "colab": {
          "base_uri": "https://localhost:8080/",
          "height": 282
        },
        "id": "aehlBDVHrAT4",
        "outputId": "1bffb2ff-cec1-4ada-d8b3-6933fec35c06"
      },
      "source": [
        "print(\"Counts of Various types of Admissions\")\n",
        "\n",
        "name=[\"EMERGENCY\",\"NEWBORN\",\"ELECTIVE\",\"URGENT\"]\n",
        "value=list(df.admission_type.value_counts())\n",
        "\n",
        "fig=plt.figure()\n",
        "plt.bar(name,value,color=['#46E455',\"#5C8BF1\",\"#BF5B04\",\"#29B78B\", \"#581963\"])\n",
        "plt.show()"
      ],
      "execution_count": null,
      "outputs": [
        {
          "output_type": "stream",
          "text": [
            "Counts of Various types of Admissions\n"
          ],
          "name": "stdout"
        },
        {
          "output_type": "display_data",
          "data": {
            "image/png": "[encoded data removed]",
            "text/plain": [
              "<Figure size 432x288 with 1 Axes>"
            ]
          },
          "metadata": {
            "tags": [],
            "needs_background": "light"
          }
        }
      ]
    }
  ]
}