{
  "nbformat": 4,
  "nbformat_minor": 0,
  "metadata": {
    "kernelspec": {
      "display_name": "Python 3",
      "language": "python",
      "name": "python3"
    },
    "language_info": {
      "codemirror_mode": {
        "name": "ipython",
        "version": 3
      },
      "file_extension": ".py",
      "mimetype": "text/x-python",
      "name": "python",
      "nbconvert_exporter": "python",
      "pygments_lexer": "ipython3",
      "version": "3.7.4"
    },
    "colab": {
      "name": "EDA.ipynb",
      "provenance": [],
      "include_colab_link": true
    }
  },
  "cells": [
    {
      "cell_type": "markdown",
      "metadata": {
        "id": "view-in-github",
        "colab_type": "text"
      },
      "source": [
        "<a href=\"https://colab.research.google.com/github/capitallatera/Project_1/blob/master/EDA.ipynb\" target=\"_parent\"><img src=\"https://colab.research.google.com/assets/colab-badge.svg\" alt=\"Open In Colab\"/></a>"
      ]
    },
    {
      "cell_type": "code",
      "metadata": {
        "id": "yibaDPtl1Mbn",
        "colab_type": "code",
        "colab": {}
      },
      "source": [
        "import pandas as pd\n",
        "import numpy as np\n",
        "import seaborn as sns"
      ],
      "execution_count": 0,
      "outputs": []
    },
    {
      "cell_type": "code",
      "metadata": {
        "id": "F9Xy9l5z1Mb6",
        "colab_type": "code",
        "colab": {},
        "outputId": "13538ea3-d734-42e5-99ca-f1cf51f0721b"
      },
      "source": [
        "ls"
      ],
      "execution_count": 0,
      "outputs": [
        {
          "output_type": "stream",
          "text": [
            "Classification.ipynb  Concatenate.ipynb  dataset_3.xlsx     final_dataset.xlsx\r\n",
            "combined.csv          dataset_1.xlsx     EDA.ipynb\r\n",
            "combined.xlsx         dataset_2.xlsx     final_dataset.csv\r\n"
          ],
          "name": "stdout"
        }
      ]
    },
    {
      "cell_type": "code",
      "metadata": {
        "id": "EtdtVy941McO",
        "colab_type": "code",
        "colab": {}
      },
      "source": [
        "data=pd.read_excel(\"final_dataset.xlsx\")"
      ],
      "execution_count": 0,
      "outputs": []
    },
    {
      "cell_type": "code",
      "metadata": {
        "id": "quKmRfLx1Mce",
        "colab_type": "code",
        "colab": {}
      },
      "source": [
        "df=data"
      ],
      "execution_count": 0,
      "outputs": []
    },
    {
      "cell_type": "code",
      "metadata": {
        "id": "EHMVCsCA1Mcp",
        "colab_type": "code",
        "colab": {},
        "outputId": "c875d3d5-c1b1-4e87-b0b8-56eb1a2061d9"
      },
      "source": [
        "df.head()"
      ],
      "execution_count": 0,
      "outputs": [
        {
          "output_type": "execute_result",
          "data": {
            "text/html": [
              "<div>\n",
              "<style scoped>\n",
              "    .dataframe tbody tr th:only-of-type {\n",
              "        vertical-align: middle;\n",
              "    }\n",
              "\n",
              "    .dataframe tbody tr th {\n",
              "        vertical-align: top;\n",
              "    }\n",
              "\n",
              "    .dataframe thead th {\n",
              "        text-align: right;\n",
              "    }\n",
              "</style>\n",
              "<table border=\"1\" class=\"dataframe\">\n",
              "  <thead>\n",
              "    <tr style=\"text-align: right;\">\n",
              "      <th></th>\n",
              "      <th>Unnamed: 0</th>\n",
              "      <th>Content</th>\n",
              "      <th>Category</th>\n",
              "    </tr>\n",
              "  </thead>\n",
              "  <tbody>\n",
              "    <tr>\n",
              "      <td>0</td>\n",
              "      <td>0</td>\n",
              "      <td>,\"While receiving an international call, if an...</td>\n",
              "      <td>OTP</td>\n",
              "    </tr>\n",
              "    <tr>\n",
              "      <td>1</td>\n",
              "      <td>1</td>\n",
              "      <td>,Non-violence is the greatest force at the dis...</td>\n",
              "      <td>OTP</td>\n",
              "    </tr>\n",
              "    <tr>\n",
              "      <td>2</td>\n",
              "      <td>2</td>\n",
              "      <td>,\"इस गांधी जयंतीआइए, बापू को समर्पित करें एक स...</td>\n",
              "      <td>OTP</td>\n",
              "    </tr>\n",
              "    <tr>\n",
              "      <td>3</td>\n",
              "      <td>3</td>\n",
              "      <td>,To call woman the weaker sex is a libel; it i...</td>\n",
              "      <td>OTP</td>\n",
              "    </tr>\n",
              "    <tr>\n",
              "      <td>4</td>\n",
              "      <td>4</td>\n",
              "      <td>,\"I attach the highest importance to quality, ...</td>\n",
              "      <td>OTP</td>\n",
              "    </tr>\n",
              "  </tbody>\n",
              "</table>\n",
              "</div>"
            ],
            "text/plain": [
              "   Unnamed: 0                                            Content Category\n",
              "0           0  ,\"While receiving an international call, if an...      OTP\n",
              "1           1  ,Non-violence is the greatest force at the dis...      OTP\n",
              "2           2  ,\"इस गांधी जयंतीआइए, बापू को समर्पित करें एक स...      OTP\n",
              "3           3  ,To call woman the weaker sex is a libel; it i...      OTP\n",
              "4           4  ,\"I attach the highest importance to quality, ...      OTP"
            ]
          },
          "metadata": {
            "tags": []
          },
          "execution_count": 11
        }
      ]
    },
    {
      "cell_type": "code",
      "metadata": {
        "id": "JY_ee2pN1Mc3",
        "colab_type": "code",
        "colab": {},
        "outputId": "0e9923b4-55e2-4f5e-bba1-c639ebd96e8b"
      },
      "source": [
        "df[\"Category\"].value_counts()"
      ],
      "execution_count": 0,
      "outputs": [
        {
          "output_type": "execute_result",
          "data": {
            "text/plain": [
              "Primary        6714\n",
              "Update         1423\n",
              "Promotional    1327\n",
              "Spam            368\n",
              "OTP              39\n",
              "Name: Category, dtype: int64"
            ]
          },
          "metadata": {
            "tags": []
          },
          "execution_count": 13
        }
      ]
    },
    {
      "cell_type": "code",
      "metadata": {
        "id": "HQKGXdsw1MdE",
        "colab_type": "code",
        "colab": {},
        "outputId": "2ad9b21c-8f56-4700-888b-a3c6b9f3d686"
      },
      "source": [
        "df[\"Category\"].value_counts().index[0]"
      ],
      "execution_count": 0,
      "outputs": [
        {
          "output_type": "execute_result",
          "data": {
            "text/plain": [
              "'Primary'"
            ]
          },
          "metadata": {
            "tags": []
          },
          "execution_count": 15
        }
      ]
    },
    {
      "cell_type": "code",
      "metadata": {
        "id": "ZV-ba0kS1MdO",
        "colab_type": "code",
        "colab": {},
        "outputId": "57d2cf75-7de3-41b2-e062-b35ce00c43e0"
      },
      "source": [
        "df[\"Category\"].value_counts()[0]"
      ],
      "execution_count": 0,
      "outputs": [
        {
          "output_type": "execute_result",
          "data": {
            "text/plain": [
              "6714"
            ]
          },
          "metadata": {
            "tags": []
          },
          "execution_count": 16
        }
      ]
    },
    {
      "cell_type": "code",
      "metadata": {
        "id": "SfDaNCXh1MdX",
        "colab_type": "code",
        "colab": {},
        "outputId": "27c5d0e2-094b-474f-e3d9-17041b14e8c3"
      },
      "source": [
        "df[\"Category\"].value_counts().shape[0]"
      ],
      "execution_count": 0,
      "outputs": [
        {
          "output_type": "execute_result",
          "data": {
            "text/plain": [
              "5"
            ]
          },
          "metadata": {
            "tags": []
          },
          "execution_count": 17
        }
      ]
    },
    {
      "cell_type": "code",
      "metadata": {
        "id": "dNfxyC8w1Mdp",
        "colab_type": "code",
        "colab": {}
      },
      "source": [
        "lst=[]\n",
        "for i in range(df[\"Category\"].value_counts().shape[0]):\n",
        "    lst.append((df[\"Category\"].value_counts().index[i],df[\"Category\"].value_counts()[i]))"
      ],
      "execution_count": 0,
      "outputs": []
    },
    {
      "cell_type": "code",
      "metadata": {
        "id": "wL8ozU4r1Mdz",
        "colab_type": "code",
        "colab": {},
        "outputId": "7233bb7e-68c3-43df-b3b5-f75e4f50e8f6"
      },
      "source": [
        "lst[4]"
      ],
      "execution_count": 0,
      "outputs": [
        {
          "output_type": "execute_result",
          "data": {
            "text/plain": [
              "('OTP', 39)"
            ]
          },
          "metadata": {
            "tags": []
          },
          "execution_count": 32
        }
      ]
    },
    {
      "cell_type": "code",
      "metadata": {
        "id": "8YJgzysw1Md9",
        "colab_type": "code",
        "colab": {},
        "outputId": "2c35690f-e0f9-48f3-da7a-949ffb61d645"
      },
      "source": [
        "# Data to plot\n",
        "import matplotlib.pyplot as plt\n",
        "\n",
        "labels=\"Primary\",\"Update\",\"Promotional\",\"Spam\",\"OTP\"\n",
        "sizes=[lst[0][1],lst[1][1],lst[2][1],lst[3][1],lst[4][1]]\n",
        "colors = ['gold', 'yellowgreen', 'lightcoral', 'lightskyblue']\n",
        "explode = (0, 0.025, 0.05, 0.080, 0)  # explode 1st slice\n",
        "#Plot\n",
        "# Plot\n",
        "plt.pie(sizes, explode=explode, labels=labels, colors=colors,\n",
        "autopct='%1.1f%%', shadow=True, startangle=140)\n",
        "\n",
        "plt.axis('equal')\n",
        "plt.show()"
      ],
      "execution_count": 0,
      "outputs": [
        {
          "output_type": "display_data",
          "data": {
            "image/png": "[encoded data removed]",
            "text/plain": [
              "<Figure size 432x288 with 1 Axes>"
            ]
          },
          "metadata": {
            "tags": []
          }
        }
      ]
    },
    {
      "cell_type": "code",
      "metadata": {
        "id": "k-gLMlqF1MeH",
        "colab_type": "code",
        "colab": {}
      },
      "source": [
        "data={\"Category\":[lst[0][0],lst[1][0],lst[2][0],lst[3][0],lst[4][0]],\n",
        "     \"Frequency\":[lst[0][1],lst[1][1],lst[2][1],lst[3][1],lst[4][1]]}"
      ],
      "execution_count": 0,
      "outputs": []
    },
    {
      "cell_type": "code",
      "metadata": {
        "id": "xwNgxlwc1MeR",
        "colab_type": "code",
        "colab": {}
      },
      "source": [
        "df_1=pd.DataFrame(data)"
      ],
      "execution_count": 0,
      "outputs": []
    },
    {
      "cell_type": "code",
      "metadata": {
        "id": "j4CY_zGX1MeY",
        "colab_type": "code",
        "colab": {},
        "outputId": "a2fe3f1f-49e9-4dc7-d57d-257d9fc02c30"
      },
      "source": [
        "df_1"
      ],
      "execution_count": 0,
      "outputs": [
        {
          "output_type": "execute_result",
          "data": {
            "text/html": [
              "<div>\n",
              "<style scoped>\n",
              "    .dataframe tbody tr th:only-of-type {\n",
              "        vertical-align: middle;\n",
              "    }\n",
              "\n",
              "    .dataframe tbody tr th {\n",
              "        vertical-align: top;\n",
              "    }\n",
              "\n",
              "    .dataframe thead th {\n",
              "        text-align: right;\n",
              "    }\n",
              "</style>\n",
              "<table border=\"1\" class=\"dataframe\">\n",
              "  <thead>\n",
              "    <tr style=\"text-align: right;\">\n",
              "      <th></th>\n",
              "      <th>Category</th>\n",
              "      <th>Frequency</th>\n",
              "    </tr>\n",
              "  </thead>\n",
              "  <tbody>\n",
              "    <tr>\n",
              "      <td>0</td>\n",
              "      <td>Primary</td>\n",
              "      <td>6714</td>\n",
              "    </tr>\n",
              "    <tr>\n",
              "      <td>1</td>\n",
              "      <td>Update</td>\n",
              "      <td>1423</td>\n",
              "    </tr>\n",
              "    <tr>\n",
              "      <td>2</td>\n",
              "      <td>Promotional</td>\n",
              "      <td>1327</td>\n",
              "    </tr>\n",
              "    <tr>\n",
              "      <td>3</td>\n",
              "      <td>Spam</td>\n",
              "      <td>368</td>\n",
              "    </tr>\n",
              "    <tr>\n",
              "      <td>4</td>\n",
              "      <td>OTP</td>\n",
              "      <td>39</td>\n",
              "    </tr>\n",
              "  </tbody>\n",
              "</table>\n",
              "</div>"
            ],
            "text/plain": [
              "      Category  Frequency\n",
              "0      Primary       6714\n",
              "1       Update       1423\n",
              "2  Promotional       1327\n",
              "3         Spam        368\n",
              "4          OTP         39"
            ]
          },
          "metadata": {
            "tags": []
          },
          "execution_count": 45
        }
      ]
    },
    {
      "cell_type": "code",
      "metadata": {
        "id": "Pc8damS71Mej",
        "colab_type": "code",
        "colab": {},
        "outputId": "a923890f-ec90-4efc-bf8e-28cc2eabc803"
      },
      "source": [
        "# sns.set(style=\"Whitegrid\")\n",
        "ax=sns.barplot(df_1[\"Category\"],df_1[\"Frequency\"],data=df_1)"
      ],
      "execution_count": 0,
      "outputs": [
        {
          "output_type": "display_data",
          "data": {
            "image/png": "[encoded data removed]",
            "text/plain": [
              "<Figure size 432x288 with 1 Axes>"
            ]
          },
          "metadata": {
            "tags": [],
            "needs_background": "light"
          }
        }
      ]
    }
  ]
}