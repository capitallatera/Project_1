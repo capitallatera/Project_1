{
  "nbformat": 4,
  "nbformat_minor": 0,
  "metadata": {
    "kernelspec": {
      "display_name": "Python 3",
      "language": "python",
      "name": "python3"
    },
    "language_info": {
      "codemirror_mode": {
        "name": "ipython",
        "version": 3
      },
      "file_extension": ".py",
      "mimetype": "text/x-python",
      "name": "python",
      "nbconvert_exporter": "python",
      "pygments_lexer": "ipython3",
      "version": "3.7.4"
    },
    "colab": {
      "name": "EDA.ipynb",
      "provenance": [],
      "include_colab_link": true
    }
  },
  "cells": [
    {
      "cell_type": "markdown",
      "metadata": {
        "id": "view-in-github",
        "colab_type": "text"
      },
      "source": [
        "<a href=\"https://colab.research.google.com/github/capitallatera/Project_1/blob/master/EDA.ipynb\" target=\"_parent\"><img src=\"https://colab.research.google.com/assets/colab-badge.svg\" alt=\"Open In Colab\"/></a>"
      ]
    },
    {
      "cell_type": "code",
      "metadata": {
        "id": "vu12IEkgPBRo",
        "colab_type": "code",
        "colab": {}
      },
      "source": [
        "import pandas as pd\n",
        "import numpy as np\n",
        "import seaborn as sns"
      ],
      "execution_count": null,
      "outputs": []
    },
    {
      "cell_type": "code",
      "metadata": {
        "id": "Bruj7eEiPBR5",
        "colab_type": "code",
        "colab": {},
        "outputId": "445fee2c-e0cb-4dc3-e5a0-15e8b8437360"
      },
      "source": [
        "ls"
      ],
      "execution_count": null,
      "outputs": [
        {
          "output_type": "stream",
          "text": [
            "Classification_Del.ipynb  dataset_2.xlsx       Model_1-Copy2.ipynb\r\n",
            "Classification.ipynb      dataset_3.xlsx       Model_1-Copy3.ipynb\r\n",
            "combined.csv              EDA.ipynb            Model_1.ipynb\r\n",
            "combined.xlsx             final_dataset.csv    model.pkl\r\n",
            "Concatenate.ipynb         final_dataset.xlsx\r\n",
            "dataset_1.xlsx            Model_1-Copy1.ipynb\r\n"
          ],
          "name": "stdout"
        }
      ]
    },
    {
      "cell_type": "code",
      "metadata": {
        "id": "sS6B-D90PBSM",
        "colab_type": "code",
        "colab": {}
      },
      "source": [
        "data=pd.read_excel(\"final_dataset.xlsx\")"
      ],
      "execution_count": null,
      "outputs": []
    },
    {
      "cell_type": "code",
      "metadata": {
        "id": "X3tOxi2lPBSZ",
        "colab_type": "code",
        "colab": {}
      },
      "source": [
        "df=data"
      ],
      "execution_count": null,
      "outputs": []
    },
    {
      "cell_type": "code",
      "metadata": {
        "id": "vYysotkpPBSk",
        "colab_type": "code",
        "colab": {},
        "outputId": "cf65240f-747b-43a1-d5ac-273bd9e2f6aa"
      },
      "source": [
        "df.head()"
      ],
      "execution_count": null,
      "outputs": [
        {
          "output_type": "execute_result",
          "data": {
            "text/html": [
              "<div>\n",
              "<style scoped>\n",
              "    .dataframe tbody tr th:only-of-type {\n",
              "        vertical-align: middle;\n",
              "    }\n",
              "\n",
              "    .dataframe tbody tr th {\n",
              "        vertical-align: top;\n",
              "    }\n",
              "\n",
              "    .dataframe thead th {\n",
              "        text-align: right;\n",
              "    }\n",
              "</style>\n",
              "<table border=\"1\" class=\"dataframe\">\n",
              "  <thead>\n",
              "    <tr style=\"text-align: right;\">\n",
              "      <th></th>\n",
              "      <th>Unnamed: 0</th>\n",
              "      <th>Content</th>\n",
              "      <th>Category</th>\n",
              "    </tr>\n",
              "  </thead>\n",
              "  <tbody>\n",
              "    <tr>\n",
              "      <td>0</td>\n",
              "      <td>0</td>\n",
              "      <td>,\"While receiving an international call, if an...</td>\n",
              "      <td>Promotional</td>\n",
              "    </tr>\n",
              "    <tr>\n",
              "      <td>1</td>\n",
              "      <td>1</td>\n",
              "      <td>,Non-violence is the greatest force at the dis...</td>\n",
              "      <td>Promotional</td>\n",
              "    </tr>\n",
              "    <tr>\n",
              "      <td>2</td>\n",
              "      <td>2</td>\n",
              "      <td>,\"इस गांधी जयंतीआइए, बापू को समर्पित करें एक स...</td>\n",
              "      <td>Promotional</td>\n",
              "    </tr>\n",
              "    <tr>\n",
              "      <td>3</td>\n",
              "      <td>3</td>\n",
              "      <td>,To call woman the weaker sex is a libel; it i...</td>\n",
              "      <td>Promotional</td>\n",
              "    </tr>\n",
              "    <tr>\n",
              "      <td>4</td>\n",
              "      <td>4</td>\n",
              "      <td>,\"I attach the highest importance to quality, ...</td>\n",
              "      <td>Promotional</td>\n",
              "    </tr>\n",
              "  </tbody>\n",
              "</table>\n",
              "</div>"
            ],
            "text/plain": [
              "   Unnamed: 0                                            Content     Category\n",
              "0           0  ,\"While receiving an international call, if an...  Promotional\n",
              "1           1  ,Non-violence is the greatest force at the dis...  Promotional\n",
              "2           2  ,\"इस गांधी जयंतीआइए, बापू को समर्पित करें एक स...  Promotional\n",
              "3           3  ,To call woman the weaker sex is a libel; it i...  Promotional\n",
              "4           4  ,\"I attach the highest importance to quality, ...  Promotional"
            ]
          },
          "metadata": {
            "tags": []
          },
          "execution_count": 5
        }
      ]
    },
    {
      "cell_type": "code",
      "metadata": {
        "id": "AS8kInn3PBSz",
        "colab_type": "code",
        "colab": {},
        "outputId": "d6d82f6a-7151-4601-88e1-ab9da888aa13"
      },
      "source": [
        "df[\"Category\"].value_counts()"
      ],
      "execution_count": null,
      "outputs": [
        {
          "output_type": "execute_result",
          "data": {
            "text/plain": [
              "Primary        5845\n",
              "Update         1460\n",
              "Promotional    1310\n",
              "Spam           1197\n",
              "OTP              59\n",
              "Name: Category, dtype: int64"
            ]
          },
          "metadata": {
            "tags": []
          },
          "execution_count": 6
        }
      ]
    },
    {
      "cell_type": "code",
      "metadata": {
        "id": "dRKj0j28PBS_",
        "colab_type": "code",
        "colab": {},
        "outputId": "5e838230-269e-4024-a032-e2fc25e4d282"
      },
      "source": [
        "df[\"Category\"].value_counts().index[0]"
      ],
      "execution_count": null,
      "outputs": [
        {
          "output_type": "execute_result",
          "data": {
            "text/plain": [
              "'Primary'"
            ]
          },
          "metadata": {
            "tags": []
          },
          "execution_count": 7
        }
      ]
    },
    {
      "cell_type": "code",
      "metadata": {
        "id": "LDjJvlwQPBTI",
        "colab_type": "code",
        "colab": {},
        "outputId": "38cd70f1-6fa5-4ddf-89bc-b011e798a0d5"
      },
      "source": [
        "df[\"Category\"].value_counts()[0]"
      ],
      "execution_count": null,
      "outputs": [
        {
          "output_type": "execute_result",
          "data": {
            "text/plain": [
              "5845"
            ]
          },
          "metadata": {
            "tags": []
          },
          "execution_count": 8
        }
      ]
    },
    {
      "cell_type": "code",
      "metadata": {
        "id": "NWNW76g2PBTQ",
        "colab_type": "code",
        "colab": {},
        "outputId": "00af6a66-725a-478f-8e54-59bee58405f6"
      },
      "source": [
        "df[\"Category\"].value_counts().shape[0]"
      ],
      "execution_count": null,
      "outputs": [
        {
          "output_type": "execute_result",
          "data": {
            "text/plain": [
              "5"
            ]
          },
          "metadata": {
            "tags": []
          },
          "execution_count": 9
        }
      ]
    },
    {
      "cell_type": "code",
      "metadata": {
        "id": "BgVs6Y25PBTZ",
        "colab_type": "code",
        "colab": {}
      },
      "source": [
        "lst=[]\n",
        "for i in range(df[\"Category\"].value_counts().shape[0]):\n",
        "    lst.append((df[\"Category\"].value_counts().index[i],df[\"Category\"].value_counts()[i]))"
      ],
      "execution_count": null,
      "outputs": []
    },
    {
      "cell_type": "code",
      "metadata": {
        "id": "wHopRwP7PBTj",
        "colab_type": "code",
        "colab": {},
        "outputId": "9882eed6-c12b-4415-8389-5f54707e6de8"
      },
      "source": [
        "lst[4]"
      ],
      "execution_count": null,
      "outputs": [
        {
          "output_type": "execute_result",
          "data": {
            "text/plain": [
              "('OTP', 59)"
            ]
          },
          "metadata": {
            "tags": []
          },
          "execution_count": 11
        }
      ]
    },
    {
      "cell_type": "code",
      "metadata": {
        "id": "OqYVCqeLPBTt",
        "colab_type": "code",
        "colab": {},
        "outputId": "ae507df1-3cfd-40c7-9aa9-39b94de33e93"
      },
      "source": [
        "# Data to plot\n",
        "import matplotlib.pyplot as plt\n",
        "\n",
        "labels=\"Primary\",\"Update\",\"Promotional\",\"Spam\",\"OTP\"\n",
        "sizes=[lst[0][1],lst[1][1],lst[2][1],lst[3][1],lst[4][1]]\n",
        "colors = ['gold', 'yellowgreen', 'lightcoral', 'lightskyblue']\n",
        "explode = (0, 0.025, 0.05, 0.080, 0)  # explode 1st slice\n",
        "#Plot\n",
        "# Plot\n",
        "plt.pie(sizes, explode=explode, labels=labels, colors=colors,\n",
        "autopct='%1.1f%%', shadow=True, startangle=140)\n",
        "\n",
        "plt.axis('equal')\n",
        "plt.show()"
      ],
      "execution_count": null,
      "outputs": [
        {
          "output_type": "display_data",
          "data": {
            "image/png": "[encoded data removed]",
            "text/plain": [
              "<Figure size 432x288 with 1 Axes>"
            ]
          },
          "metadata": {
            "tags": []
          }
        }
      ]
    },
    {
      "cell_type": "code",
      "metadata": {
        "id": "90wD-35iPBT2",
        "colab_type": "code",
        "colab": {}
      },
      "source": [
        "data={\"Category\":[lst[0][0],lst[1][0],lst[2][0],lst[3][0],lst[4][0]],\n",
        "     \"Frequency\":[lst[0][1],lst[1][1],lst[2][1],lst[3][1],lst[4][1]]}"
      ],
      "execution_count": null,
      "outputs": []
    },
    {
      "cell_type": "code",
      "metadata": {
        "id": "EiaFSXKePBUA",
        "colab_type": "code",
        "colab": {}
      },
      "source": [
        "df_1=pd.DataFrame(data)"
      ],
      "execution_count": null,
      "outputs": []
    },
    {
      "cell_type": "code",
      "metadata": {
        "id": "_fvXOk_PPBUJ",
        "colab_type": "code",
        "colab": {},
        "outputId": "eb2971c9-4aa0-4c48-c747-a10b83ccc43a"
      },
      "source": [
        "df_1"
      ],
      "execution_count": null,
      "outputs": [
        {
          "output_type": "execute_result",
          "data": {
            "text/html": [
              "<div>\n",
              "<style scoped>\n",
              "    .dataframe tbody tr th:only-of-type {\n",
              "        vertical-align: middle;\n",
              "    }\n",
              "\n",
              "    .dataframe tbody tr th {\n",
              "        vertical-align: top;\n",
              "    }\n",
              "\n",
              "    .dataframe thead th {\n",
              "        text-align: right;\n",
              "    }\n",
              "</style>\n",
              "<table border=\"1\" class=\"dataframe\">\n",
              "  <thead>\n",
              "    <tr style=\"text-align: right;\">\n",
              "      <th></th>\n",
              "      <th>Category</th>\n",
              "      <th>Frequency</th>\n",
              "    </tr>\n",
              "  </thead>\n",
              "  <tbody>\n",
              "    <tr>\n",
              "      <td>0</td>\n",
              "      <td>Primary</td>\n",
              "      <td>5845</td>\n",
              "    </tr>\n",
              "    <tr>\n",
              "      <td>1</td>\n",
              "      <td>Update</td>\n",
              "      <td>1460</td>\n",
              "    </tr>\n",
              "    <tr>\n",
              "      <td>2</td>\n",
              "      <td>Promotional</td>\n",
              "      <td>1310</td>\n",
              "    </tr>\n",
              "    <tr>\n",
              "      <td>3</td>\n",
              "      <td>Spam</td>\n",
              "      <td>1197</td>\n",
              "    </tr>\n",
              "    <tr>\n",
              "      <td>4</td>\n",
              "      <td>OTP</td>\n",
              "      <td>59</td>\n",
              "    </tr>\n",
              "  </tbody>\n",
              "</table>\n",
              "</div>"
            ],
            "text/plain": [
              "      Category  Frequency\n",
              "0      Primary       5845\n",
              "1       Update       1460\n",
              "2  Promotional       1310\n",
              "3         Spam       1197\n",
              "4          OTP         59"
            ]
          },
          "metadata": {
            "tags": []
          },
          "execution_count": 15
        }
      ]
    },
    {
      "cell_type": "code",
      "metadata": {
        "id": "FYTEmt4sPBUS",
        "colab_type": "code",
        "colab": {},
        "outputId": "97251849-0fce-41a4-e63c-f9848ca6e014"
      },
      "source": [
        "# sns.set(style=\"Whitegrid\")\n",
        "ax=sns.barplot(df_1[\"Category\"],df_1[\"Frequency\"],data=df_1)"
      ],
      "execution_count": null,
      "outputs": [
        {
          "output_type": "display_data",
          "data": {
            "image/png": "[encoded data removed]",
            "text/plain": [
              "<Figure size 432x288 with 1 Axes>"
            ]
          },
          "metadata": {
            "tags": [],
            "needs_background": "light"
          }
        }
      ]
    }
  ]
}