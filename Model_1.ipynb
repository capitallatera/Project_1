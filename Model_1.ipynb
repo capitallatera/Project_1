{
  "nbformat": 4,
  "nbformat_minor": 0,
  "metadata": {
    "kernelspec": {
      "display_name": "Python 3",
      "language": "python",
      "name": "python3"
    },
    "language_info": {
      "codemirror_mode": {
        "name": "ipython",
        "version": 3
      },
      "file_extension": ".py",
      "mimetype": "text/x-python",
      "name": "python",
      "nbconvert_exporter": "python",
      "pygments_lexer": "ipython3",
      "version": "3.7.4"
    },
    "colab": {
      "name": "Model_1.ipynb",
      "provenance": [],
      "include_colab_link": true
    }
  },
  "cells": [
    {
      "cell_type": "markdown",
      "metadata": {
        "id": "view-in-github",
        "colab_type": "text"
      },
      "source": [
        "<a href=\"https://colab.research.google.com/github/capitallatera/Project_1/blob/master/Model_1.ipynb\" target=\"_parent\"><img src=\"https://colab.research.google.com/assets/colab-badge.svg\" alt=\"Open In Colab\"/></a>"
      ]
    },
    {
      "cell_type": "code",
      "metadata": {
        "id": "bKbSHVWQXnDJ",
        "colab_type": "code",
        "colab": {},
        "outputId": "ae05f277-04c5-4671-9add-be20f7af40de"
      },
      "source": [
        "ls"
      ],
      "execution_count": null,
      "outputs": [
        {
          "output_type": "stream",
          "text": [
            "Classification.ipynb  dataset_1.xlsx  final_dataset.csv    Model_1-Copy3.ipynb\r\n",
            "combined.csv          dataset_2.xlsx  final_dataset.xlsx   Model_1.ipynb\r\n",
            "combined.xlsx         dataset_3.xlsx  Model_1-Copy1.ipynb  model.pkl\r\n",
            "Concatenate.ipynb     EDA.ipynb       Model_1-Copy2.ipynb\r\n"
          ],
          "name": "stdout"
        }
      ]
    },
    {
      "cell_type": "code",
      "metadata": {
        "id": "U_-AgpVZXnDl",
        "colab_type": "code",
        "colab": {}
      },
      "source": [
        "import pandas as pd\n",
        "import numpy as np"
      ],
      "execution_count": null,
      "outputs": []
    },
    {
      "cell_type": "code",
      "metadata": {
        "id": "augliM03XnEC",
        "colab_type": "code",
        "colab": {}
      },
      "source": [
        "data=pd.read_excel(\"final_dataset.xlsx\")"
      ],
      "execution_count": null,
      "outputs": []
    },
    {
      "cell_type": "code",
      "metadata": {
        "id": "suFx-G6GXnEP",
        "colab_type": "code",
        "colab": {}
      },
      "source": [
        "df=data"
      ],
      "execution_count": null,
      "outputs": []
    },
    {
      "cell_type": "code",
      "metadata": {
        "id": "SrNfQiqIXnEc",
        "colab_type": "code",
        "colab": {}
      },
      "source": [
        "df_1=df.drop(columns=[\"Unnamed: 0\"])"
      ],
      "execution_count": null,
      "outputs": []
    },
    {
      "cell_type": "code",
      "metadata": {
        "id": "st1gNe5JXnEq",
        "colab_type": "code",
        "colab": {},
        "outputId": "704a0b14-9fe0-42a1-b904-48d5ee0888fc"
      },
      "source": [
        "df_1.head()"
      ],
      "execution_count": null,
      "outputs": [
        {
          "output_type": "execute_result",
          "data": {
            "text/html": [
              "<div>\n",
              "<style scoped>\n",
              "    .dataframe tbody tr th:only-of-type {\n",
              "        vertical-align: middle;\n",
              "    }\n",
              "\n",
              "    .dataframe tbody tr th {\n",
              "        vertical-align: top;\n",
              "    }\n",
              "\n",
              "    .dataframe thead th {\n",
              "        text-align: right;\n",
              "    }\n",
              "</style>\n",
              "<table border=\"1\" class=\"dataframe\">\n",
              "  <thead>\n",
              "    <tr style=\"text-align: right;\">\n",
              "      <th></th>\n",
              "      <th>Content</th>\n",
              "      <th>Category</th>\n",
              "    </tr>\n",
              "  </thead>\n",
              "  <tbody>\n",
              "    <tr>\n",
              "      <td>0</td>\n",
              "      <td>,\"While receiving an international call, if an...</td>\n",
              "      <td>OTP</td>\n",
              "    </tr>\n",
              "    <tr>\n",
              "      <td>1</td>\n",
              "      <td>,Non-violence is the greatest force at the dis...</td>\n",
              "      <td>OTP</td>\n",
              "    </tr>\n",
              "    <tr>\n",
              "      <td>2</td>\n",
              "      <td>,\"इस गांधी जयंतीआइए, बापू को समर्पित करें एक स...</td>\n",
              "      <td>OTP</td>\n",
              "    </tr>\n",
              "    <tr>\n",
              "      <td>3</td>\n",
              "      <td>,To call woman the weaker sex is a libel; it i...</td>\n",
              "      <td>OTP</td>\n",
              "    </tr>\n",
              "    <tr>\n",
              "      <td>4</td>\n",
              "      <td>,\"I attach the highest importance to quality, ...</td>\n",
              "      <td>OTP</td>\n",
              "    </tr>\n",
              "  </tbody>\n",
              "</table>\n",
              "</div>"
            ],
            "text/plain": [
              "                                             Content Category\n",
              "0  ,\"While receiving an international call, if an...      OTP\n",
              "1  ,Non-violence is the greatest force at the dis...      OTP\n",
              "2  ,\"इस गांधी जयंतीआइए, बापू को समर्पित करें एक स...      OTP\n",
              "3  ,To call woman the weaker sex is a libel; it i...      OTP\n",
              "4  ,\"I attach the highest importance to quality, ...      OTP"
            ]
          },
          "metadata": {
            "tags": []
          },
          "execution_count": 6
        }
      ]
    },
    {
      "cell_type": "code",
      "metadata": {
        "id": "bqO4V3c3XnE2",
        "colab_type": "code",
        "colab": {},
        "outputId": "041ea2a7-9d69-485c-8e12-24dbad850eea"
      },
      "source": [
        "df[df[\"Content\"]==0]"
      ],
      "execution_count": null,
      "outputs": [
        {
          "output_type": "execute_result",
          "data": {
            "text/html": [
              "<div>\n",
              "<style scoped>\n",
              "    .dataframe tbody tr th:only-of-type {\n",
              "        vertical-align: middle;\n",
              "    }\n",
              "\n",
              "    .dataframe tbody tr th {\n",
              "        vertical-align: top;\n",
              "    }\n",
              "\n",
              "    .dataframe thead th {\n",
              "        text-align: right;\n",
              "    }\n",
              "</style>\n",
              "<table border=\"1\" class=\"dataframe\">\n",
              "  <thead>\n",
              "    <tr style=\"text-align: right;\">\n",
              "      <th></th>\n",
              "      <th>Unnamed: 0</th>\n",
              "      <th>Content</th>\n",
              "      <th>Category</th>\n",
              "    </tr>\n",
              "  </thead>\n",
              "  <tbody>\n",
              "    <tr>\n",
              "      <td>9716</td>\n",
              "      <td>9716</td>\n",
              "      <td>0</td>\n",
              "      <td>Spam</td>\n",
              "    </tr>\n",
              "  </tbody>\n",
              "</table>\n",
              "</div>"
            ],
            "text/plain": [
              "      Unnamed: 0 Content Category\n",
              "9716        9716       0     Spam"
            ]
          },
          "metadata": {
            "tags": []
          },
          "execution_count": 8
        }
      ]
    },
    {
      "cell_type": "code",
      "metadata": {
        "id": "yxiQNBj3XnFB",
        "colab_type": "code",
        "colab": {}
      },
      "source": [
        "df=df.drop([9716])"
      ],
      "execution_count": null,
      "outputs": []
    },
    {
      "cell_type": "markdown",
      "metadata": {
        "id": "9gYhXOk_XnFK",
        "colab_type": "text"
      },
      "source": [
        "### Remove punctuation"
      ]
    },
    {
      "cell_type": "code",
      "metadata": {
        "id": "dn_Oq9EmXnFM",
        "colab_type": "code",
        "colab": {},
        "outputId": "3214da72-bfc5-4938-d5bf-3a7841a5ee49"
      },
      "source": [
        "import string\n",
        "string.punctuation"
      ],
      "execution_count": null,
      "outputs": [
        {
          "output_type": "execute_result",
          "data": {
            "text/plain": [
              "'!\"#$%&\\'()*+,-./:;<=>?@[\\\\]^_`{|}~'"
            ]
          },
          "metadata": {
            "tags": []
          },
          "execution_count": 11
        }
      ]
    },
    {
      "cell_type": "code",
      "metadata": {
        "id": "Gzfemu4OXnFY",
        "colab_type": "code",
        "colab": {},
        "outputId": "ba913680-5b04-4c09-a2f4-4a8030de816d"
      },
      "source": [
        "# Function to remove Punctuation\n",
        "def remove_punct(text):\n",
        "    if text != 0:\n",
        "        text_nopunct=\"\".join([char for char in text if char not in string.punctuation])\n",
        "        return text_nopunct\n",
        "df[\"Content_clean\"]=df[\"Content\"].apply(lambda x: remove_punct(x))\n",
        "df.head()"
      ],
      "execution_count": null,
      "outputs": [
        {
          "output_type": "execute_result",
          "data": {
            "text/html": [
              "<div>\n",
              "<style scoped>\n",
              "    .dataframe tbody tr th:only-of-type {\n",
              "        vertical-align: middle;\n",
              "    }\n",
              "\n",
              "    .dataframe tbody tr th {\n",
              "        vertical-align: top;\n",
              "    }\n",
              "\n",
              "    .dataframe thead th {\n",
              "        text-align: right;\n",
              "    }\n",
              "</style>\n",
              "<table border=\"1\" class=\"dataframe\">\n",
              "  <thead>\n",
              "    <tr style=\"text-align: right;\">\n",
              "      <th></th>\n",
              "      <th>Unnamed: 0</th>\n",
              "      <th>Content</th>\n",
              "      <th>Category</th>\n",
              "      <th>Content_clean</th>\n",
              "    </tr>\n",
              "  </thead>\n",
              "  <tbody>\n",
              "    <tr>\n",
              "      <td>0</td>\n",
              "      <td>0</td>\n",
              "      <td>,\"While receiving an international call, if an...</td>\n",
              "      <td>OTP</td>\n",
              "      <td>While receiving an international call if an In...</td>\n",
              "    </tr>\n",
              "    <tr>\n",
              "      <td>1</td>\n",
              "      <td>1</td>\n",
              "      <td>,Non-violence is the greatest force at the dis...</td>\n",
              "      <td>OTP</td>\n",
              "      <td>Nonviolence is the greatest force at the dispo...</td>\n",
              "    </tr>\n",
              "    <tr>\n",
              "      <td>2</td>\n",
              "      <td>2</td>\n",
              "      <td>,\"इस गांधी जयंतीआइए, बापू को समर्पित करें एक स...</td>\n",
              "      <td>OTP</td>\n",
              "      <td>इस गांधी जयंतीआइए बापू को समर्पित करें एक स्वच...</td>\n",
              "    </tr>\n",
              "    <tr>\n",
              "      <td>3</td>\n",
              "      <td>3</td>\n",
              "      <td>,To call woman the weaker sex is a libel; it i...</td>\n",
              "      <td>OTP</td>\n",
              "      <td>To call woman the weaker sex is a libel it is ...</td>\n",
              "    </tr>\n",
              "    <tr>\n",
              "      <td>4</td>\n",
              "      <td>4</td>\n",
              "      <td>,\"I attach the highest importance to quality, ...</td>\n",
              "      <td>OTP</td>\n",
              "      <td>I attach the highest importance to quality irr...</td>\n",
              "    </tr>\n",
              "  </tbody>\n",
              "</table>\n",
              "</div>"
            ],
            "text/plain": [
              "   Unnamed: 0                                            Content Category  \\\n",
              "0           0  ,\"While receiving an international call, if an...      OTP   \n",
              "1           1  ,Non-violence is the greatest force at the dis...      OTP   \n",
              "2           2  ,\"इस गांधी जयंतीआइए, बापू को समर्पित करें एक स...      OTP   \n",
              "3           3  ,To call woman the weaker sex is a libel; it i...      OTP   \n",
              "4           4  ,\"I attach the highest importance to quality, ...      OTP   \n",
              "\n",
              "                                       Content_clean  \n",
              "0  While receiving an international call if an In...  \n",
              "1  Nonviolence is the greatest force at the dispo...  \n",
              "2  इस गांधी जयंतीआइए बापू को समर्पित करें एक स्वच...  \n",
              "3  To call woman the weaker sex is a libel it is ...  \n",
              "4  I attach the highest importance to quality irr...  "
            ]
          },
          "metadata": {
            "tags": []
          },
          "execution_count": 12
        }
      ]
    },
    {
      "cell_type": "markdown",
      "metadata": {
        "id": "YI680owuXnFj",
        "colab_type": "text"
      },
      "source": [
        "### Tokenization"
      ]
    },
    {
      "cell_type": "code",
      "metadata": {
        "id": "gvFTjVXuXnFl",
        "colab_type": "code",
        "colab": {}
      },
      "source": [
        "import re\n",
        "\n",
        "# Function to Tokenize Words\n",
        "def tokenize(text):\n",
        "    if text != None:\n",
        "        tokens=re.split('\\W+',text.lower())\n",
        "        return tokens\n"
      ],
      "execution_count": null,
      "outputs": []
    },
    {
      "cell_type": "code",
      "metadata": {
        "id": "OglAzIKfXnFw",
        "colab_type": "code",
        "colab": {},
        "outputId": "920ec7e8-8393-43ef-c417-2dbf321e2132"
      },
      "source": [
        "df[\"Content_tokenize\"]=df[\"Content_clean\"].apply(lambda x: tokenize(x))\n",
        "df.head(3)"
      ],
      "execution_count": null,
      "outputs": [
        {
          "output_type": "execute_result",
          "data": {
            "text/html": [
              "<div>\n",
              "<style scoped>\n",
              "    .dataframe tbody tr th:only-of-type {\n",
              "        vertical-align: middle;\n",
              "    }\n",
              "\n",
              "    .dataframe tbody tr th {\n",
              "        vertical-align: top;\n",
              "    }\n",
              "\n",
              "    .dataframe thead th {\n",
              "        text-align: right;\n",
              "    }\n",
              "</style>\n",
              "<table border=\"1\" class=\"dataframe\">\n",
              "  <thead>\n",
              "    <tr style=\"text-align: right;\">\n",
              "      <th></th>\n",
              "      <th>Unnamed: 0</th>\n",
              "      <th>Content</th>\n",
              "      <th>Category</th>\n",
              "      <th>Content_clean</th>\n",
              "      <th>Content_tokenize</th>\n",
              "    </tr>\n",
              "  </thead>\n",
              "  <tbody>\n",
              "    <tr>\n",
              "      <td>0</td>\n",
              "      <td>0</td>\n",
              "      <td>,\"While receiving an international call, if an...</td>\n",
              "      <td>OTP</td>\n",
              "      <td>While receiving an international call if an In...</td>\n",
              "      <td>[while, receiving, an, international, call, if...</td>\n",
              "    </tr>\n",
              "    <tr>\n",
              "      <td>1</td>\n",
              "      <td>1</td>\n",
              "      <td>,Non-violence is the greatest force at the dis...</td>\n",
              "      <td>OTP</td>\n",
              "      <td>Nonviolence is the greatest force at the dispo...</td>\n",
              "      <td>[nonviolence, is, the, greatest, force, at, th...</td>\n",
              "    </tr>\n",
              "    <tr>\n",
              "      <td>2</td>\n",
              "      <td>2</td>\n",
              "      <td>,\"इस गांधी जयंतीआइए, बापू को समर्पित करें एक स...</td>\n",
              "      <td>OTP</td>\n",
              "      <td>इस गांधी जयंतीआइए बापू को समर्पित करें एक स्वच...</td>\n",
              "      <td>[इस, ग, ध, जय, त, आइए, ब, प, क, समर, प, त, कर,...</td>\n",
              "    </tr>\n",
              "  </tbody>\n",
              "</table>\n",
              "</div>"
            ],
            "text/plain": [
              "   Unnamed: 0                                            Content Category  \\\n",
              "0           0  ,\"While receiving an international call, if an...      OTP   \n",
              "1           1  ,Non-violence is the greatest force at the dis...      OTP   \n",
              "2           2  ,\"इस गांधी जयंतीआइए, बापू को समर्पित करें एक स...      OTP   \n",
              "\n",
              "                                       Content_clean  \\\n",
              "0  While receiving an international call if an In...   \n",
              "1  Nonviolence is the greatest force at the dispo...   \n",
              "2  इस गांधी जयंतीआइए बापू को समर्पित करें एक स्वच...   \n",
              "\n",
              "                                    Content_tokenize  \n",
              "0  [while, receiving, an, international, call, if...  \n",
              "1  [nonviolence, is, the, greatest, force, at, th...  \n",
              "2  [इस, ग, ध, जय, त, आइए, ब, प, क, समर, प, त, कर,...  "
            ]
          },
          "metadata": {
            "tags": []
          },
          "execution_count": 14
        }
      ]
    },
    {
      "cell_type": "markdown",
      "metadata": {
        "id": "4v7WX8SkXnF7",
        "colab_type": "text"
      },
      "source": [
        "### Preprocessing Data: Using Stemming"
      ]
    },
    {
      "cell_type": "code",
      "metadata": {
        "id": "w-BJdNIAXnF9",
        "colab_type": "code",
        "colab": {},
        "outputId": "3f5b3135-1cdf-4df9-c346-a6ad6a0004cf"
      },
      "source": [
        "import nltk\n",
        "ps=nltk.PorterStemmer()\n",
        "\n",
        "def stemming(tokenized_text):\n",
        "    if tokenized_text != None:\n",
        "        text=[ps.stem(word) for word in tokenized_text]\n",
        "        return text\n",
        "\n",
        "df[\"Content_stem\"]=df[\"Content_tokenize\"].apply(lambda x:stemming(x))\n",
        "df.head(3)"
      ],
      "execution_count": null,
      "outputs": [
        {
          "output_type": "execute_result",
          "data": {
            "text/html": [
              "<div>\n",
              "<style scoped>\n",
              "    .dataframe tbody tr th:only-of-type {\n",
              "        vertical-align: middle;\n",
              "    }\n",
              "\n",
              "    .dataframe tbody tr th {\n",
              "        vertical-align: top;\n",
              "    }\n",
              "\n",
              "    .dataframe thead th {\n",
              "        text-align: right;\n",
              "    }\n",
              "</style>\n",
              "<table border=\"1\" class=\"dataframe\">\n",
              "  <thead>\n",
              "    <tr style=\"text-align: right;\">\n",
              "      <th></th>\n",
              "      <th>Unnamed: 0</th>\n",
              "      <th>Content</th>\n",
              "      <th>Category</th>\n",
              "      <th>Content_clean</th>\n",
              "      <th>Content_tokenize</th>\n",
              "      <th>Content_stem</th>\n",
              "    </tr>\n",
              "  </thead>\n",
              "  <tbody>\n",
              "    <tr>\n",
              "      <td>0</td>\n",
              "      <td>0</td>\n",
              "      <td>,\"While receiving an international call, if an...</td>\n",
              "      <td>OTP</td>\n",
              "      <td>While receiving an international call if an In...</td>\n",
              "      <td>[while, receiving, an, international, call, if...</td>\n",
              "      <td>[while, receiv, an, intern, call, if, an, indi...</td>\n",
              "    </tr>\n",
              "    <tr>\n",
              "      <td>1</td>\n",
              "      <td>1</td>\n",
              "      <td>,Non-violence is the greatest force at the dis...</td>\n",
              "      <td>OTP</td>\n",
              "      <td>Nonviolence is the greatest force at the dispo...</td>\n",
              "      <td>[nonviolence, is, the, greatest, force, at, th...</td>\n",
              "      <td>[nonviol, is, the, greatest, forc, at, the, di...</td>\n",
              "    </tr>\n",
              "    <tr>\n",
              "      <td>2</td>\n",
              "      <td>2</td>\n",
              "      <td>,\"इस गांधी जयंतीआइए, बापू को समर्पित करें एक स...</td>\n",
              "      <td>OTP</td>\n",
              "      <td>इस गांधी जयंतीआइए बापू को समर्पित करें एक स्वच...</td>\n",
              "      <td>[इस, ग, ध, जय, त, आइए, ब, प, क, समर, प, त, कर,...</td>\n",
              "      <td>[इस, ग, ध, जय, त, आइए, ब, प, क, समर, प, त, कर,...</td>\n",
              "    </tr>\n",
              "  </tbody>\n",
              "</table>\n",
              "</div>"
            ],
            "text/plain": [
              "   Unnamed: 0                                            Content Category  \\\n",
              "0           0  ,\"While receiving an international call, if an...      OTP   \n",
              "1           1  ,Non-violence is the greatest force at the dis...      OTP   \n",
              "2           2  ,\"इस गांधी जयंतीआइए, बापू को समर्पित करें एक स...      OTP   \n",
              "\n",
              "                                       Content_clean  \\\n",
              "0  While receiving an international call if an In...   \n",
              "1  Nonviolence is the greatest force at the dispo...   \n",
              "2  इस गांधी जयंतीआइए बापू को समर्पित करें एक स्वच...   \n",
              "\n",
              "                                    Content_tokenize  \\\n",
              "0  [while, receiving, an, international, call, if...   \n",
              "1  [nonviolence, is, the, greatest, force, at, th...   \n",
              "2  [इस, ग, ध, जय, त, आइए, ब, प, क, समर, प, त, कर,...   \n",
              "\n",
              "                                        Content_stem  \n",
              "0  [while, receiv, an, intern, call, if, an, indi...  \n",
              "1  [nonviol, is, the, greatest, forc, at, the, di...  \n",
              "2  [इस, ग, ध, जय, त, आइए, ब, प, क, समर, प, त, कर,...  "
            ]
          },
          "metadata": {
            "tags": []
          },
          "execution_count": 15
        }
      ]
    },
    {
      "cell_type": "markdown",
      "metadata": {
        "id": "8UxnquZ0XnGH",
        "colab_type": "text"
      },
      "source": [
        "### Preprocessing Data: Using a Lemmatizer"
      ]
    },
    {
      "cell_type": "code",
      "metadata": {
        "id": "XLfjWB8rXnGI",
        "colab_type": "code",
        "colab": {}
      },
      "source": [
        ""
      ],
      "execution_count": null,
      "outputs": []
    },
    {
      "cell_type": "code",
      "metadata": {
        "id": "cmd_JAwtXnGS",
        "colab_type": "code",
        "colab": {},
        "outputId": "8609e8fb-74bf-4fd7-b2b0-326064e032c8"
      },
      "source": [
        "wn=nltk.WordNetLemmatizer()\n",
        "\n",
        "def lemmatizing(tokenized_text):\n",
        "    if tokenized_text != None:\n",
        "        text=[wn.lemmatize(word) for word in tokenized_text]\n",
        "        return text\n",
        "\n",
        "df[\"Content_lemmatized\"]=df[\"Content_tokenize\"].apply(lambda x: lemmatizing(x))\n",
        "df.head(3)"
      ],
      "execution_count": null,
      "outputs": [
        {
          "output_type": "execute_result",
          "data": {
            "text/html": [
              "<div>\n",
              "<style scoped>\n",
              "    .dataframe tbody tr th:only-of-type {\n",
              "        vertical-align: middle;\n",
              "    }\n",
              "\n",
              "    .dataframe tbody tr th {\n",
              "        vertical-align: top;\n",
              "    }\n",
              "\n",
              "    .dataframe thead th {\n",
              "        text-align: right;\n",
              "    }\n",
              "</style>\n",
              "<table border=\"1\" class=\"dataframe\">\n",
              "  <thead>\n",
              "    <tr style=\"text-align: right;\">\n",
              "      <th></th>\n",
              "      <th>Unnamed: 0</th>\n",
              "      <th>Content</th>\n",
              "      <th>Category</th>\n",
              "      <th>Content_clean</th>\n",
              "      <th>Content_tokenize</th>\n",
              "      <th>Content_stem</th>\n",
              "      <th>Content_lemmatized</th>\n",
              "    </tr>\n",
              "  </thead>\n",
              "  <tbody>\n",
              "    <tr>\n",
              "      <td>0</td>\n",
              "      <td>0</td>\n",
              "      <td>,\"While receiving an international call, if an...</td>\n",
              "      <td>OTP</td>\n",
              "      <td>While receiving an international call if an In...</td>\n",
              "      <td>[while, receiving, an, international, call, if...</td>\n",
              "      <td>[while, receiv, an, intern, call, if, an, indi...</td>\n",
              "      <td>[while, receiving, an, international, call, if...</td>\n",
              "    </tr>\n",
              "    <tr>\n",
              "      <td>1</td>\n",
              "      <td>1</td>\n",
              "      <td>,Non-violence is the greatest force at the dis...</td>\n",
              "      <td>OTP</td>\n",
              "      <td>Nonviolence is the greatest force at the dispo...</td>\n",
              "      <td>[nonviolence, is, the, greatest, force, at, th...</td>\n",
              "      <td>[nonviol, is, the, greatest, forc, at, the, di...</td>\n",
              "      <td>[nonviolence, is, the, greatest, force, at, th...</td>\n",
              "    </tr>\n",
              "    <tr>\n",
              "      <td>2</td>\n",
              "      <td>2</td>\n",
              "      <td>,\"इस गांधी जयंतीआइए, बापू को समर्पित करें एक स...</td>\n",
              "      <td>OTP</td>\n",
              "      <td>इस गांधी जयंतीआइए बापू को समर्पित करें एक स्वच...</td>\n",
              "      <td>[इस, ग, ध, जय, त, आइए, ब, प, क, समर, प, त, कर,...</td>\n",
              "      <td>[इस, ग, ध, जय, त, आइए, ब, प, क, समर, प, त, कर,...</td>\n",
              "      <td>[इस, ग, ध, जय, त, आइए, ब, प, क, समर, प, त, कर,...</td>\n",
              "    </tr>\n",
              "  </tbody>\n",
              "</table>\n",
              "</div>"
            ],
            "text/plain": [
              "   Unnamed: 0                                            Content Category  \\\n",
              "0           0  ,\"While receiving an international call, if an...      OTP   \n",
              "1           1  ,Non-violence is the greatest force at the dis...      OTP   \n",
              "2           2  ,\"इस गांधी जयंतीआइए, बापू को समर्पित करें एक स...      OTP   \n",
              "\n",
              "                                       Content_clean  \\\n",
              "0  While receiving an international call if an In...   \n",
              "1  Nonviolence is the greatest force at the dispo...   \n",
              "2  इस गांधी जयंतीआइए बापू को समर्पित करें एक स्वच...   \n",
              "\n",
              "                                    Content_tokenize  \\\n",
              "0  [while, receiving, an, international, call, if...   \n",
              "1  [nonviolence, is, the, greatest, force, at, th...   \n",
              "2  [इस, ग, ध, जय, त, आइए, ब, प, क, समर, प, त, कर,...   \n",
              "\n",
              "                                        Content_stem  \\\n",
              "0  [while, receiv, an, intern, call, if, an, indi...   \n",
              "1  [nonviol, is, the, greatest, forc, at, the, di...   \n",
              "2  [इस, ग, ध, जय, त, आइए, ब, प, क, समर, प, त, कर,...   \n",
              "\n",
              "                                  Content_lemmatized  \n",
              "0  [while, receiving, an, international, call, if...  \n",
              "1  [nonviolence, is, the, greatest, force, at, th...  \n",
              "2  [इस, ग, ध, जय, त, आइए, ब, प, क, समर, प, त, कर,...  "
            ]
          },
          "metadata": {
            "tags": []
          },
          "execution_count": 16
        }
      ]
    },
    {
      "cell_type": "code",
      "metadata": {
        "id": "epAkL65fXnGe",
        "colab_type": "code",
        "colab": {},
        "outputId": "69bbd8ab-a6c6-4836-cc71-325e25988f54"
      },
      "source": [
        "df.isna().sum()"
      ],
      "execution_count": null,
      "outputs": [
        {
          "output_type": "execute_result",
          "data": {
            "text/plain": [
              "Unnamed: 0            0\n",
              "Content               0\n",
              "Category              0\n",
              "Content_clean         0\n",
              "Content_tokenize      0\n",
              "Content_stem          0\n",
              "Content_lemmatized    0\n",
              "dtype: int64"
            ]
          },
          "metadata": {
            "tags": []
          },
          "execution_count": 18
        }
      ]
    },
    {
      "cell_type": "code",
      "metadata": {
        "id": "KQMT9q3BXnGn",
        "colab_type": "code",
        "colab": {}
      },
      "source": [
        "### Model Building"
      ],
      "execution_count": null,
      "outputs": []
    },
    {
      "cell_type": "code",
      "metadata": {
        "id": "tIbp3qTuXnGv",
        "colab_type": "code",
        "colab": {}
      },
      "source": [
        "from sklearn.model_selection import train_test_split\n",
        "from sklearn.ensemble import RandomForestClassifier\n",
        "from sklearn.svm import SVC\n",
        "from sklearn.metrics import accuracy_score, classification_report, confusion_matrix\n",
        "from sklearn.pipeline import Pipeline\n",
        "from sklearn.feature_extraction.text import TfidfVectorizer\n",
        "from sklearn import preprocessing\n",
        "import pickle"
      ],
      "execution_count": null,
      "outputs": []
    },
    {
      "cell_type": "code",
      "metadata": {
        "id": "lAlmiRAjXnG4",
        "colab_type": "code",
        "colab": {}
      },
      "source": [
        "X_train,X_test,y_train,y_test=train_test_split(df['Content_clean'],df[\"Category\"],test_size=0.3)"
      ],
      "execution_count": null,
      "outputs": []
    },
    {
      "cell_type": "code",
      "metadata": {
        "id": "oSsLyWLBXnG_",
        "colab_type": "code",
        "colab": {},
        "outputId": "59cbcbd5-7813-4090-afc4-d68ebb1d247e"
      },
      "source": [
        "vectorizer=TfidfVectorizer()\n",
        "X=vectorizer.fit_transform(X_train)\n",
        "# print(vectorizer.get_feature_names())\n",
        "X.shape"
      ],
      "execution_count": null,
      "outputs": [
        {
          "output_type": "execute_result",
          "data": {
            "text/plain": [
              "(6909, 8022)"
            ]
          },
          "metadata": {
            "tags": []
          },
          "execution_count": 22
        }
      ]
    },
    {
      "cell_type": "code",
      "metadata": {
        "id": "HZ55uEkiXnHK",
        "colab_type": "code",
        "colab": {}
      },
      "source": [
        "clf=Pipeline([('tfidf',TfidfVectorizer()),('clf',RandomForestClassifier(n_estimators=100,n_jobs=-1))])"
      ],
      "execution_count": null,
      "outputs": []
    },
    {
      "cell_type": "code",
      "metadata": {
        "collapsed": true,
        "id": "TEp0lbdmXnHZ",
        "colab_type": "code",
        "colab": {},
        "outputId": "665e5eb5-f4be-4285-d935-a0c1ff3b7177"
      },
      "source": [
        "clf.fit(X_train,y_train)"
      ],
      "execution_count": null,
      "outputs": [
        {
          "output_type": "execute_result",
          "data": {
            "text/plain": [
              "Pipeline(memory=None,\n",
              "         steps=[('tfidf',\n",
              "                 TfidfVectorizer(analyzer='word', binary=False,\n",
              "                                 decode_error='strict',\n",
              "                                 dtype=<class 'numpy.float64'>,\n",
              "                                 encoding='utf-8', input='content',\n",
              "                                 lowercase=True, max_df=1.0, max_features=None,\n",
              "                                 min_df=1, ngram_range=(1, 1), norm='l2',\n",
              "                                 preprocessor=None, smooth_idf=True,\n",
              "                                 stop_words=None, strip_accents=None,\n",
              "                                 sublinear_tf=False,\n",
              "                                 token_pattern='...\n",
              "                 RandomForestClassifier(bootstrap=True, class_weight=None,\n",
              "                                        criterion='gini', max_depth=None,\n",
              "                                        max_features='auto',\n",
              "                                        max_leaf_nodes=None,\n",
              "                                        min_impurity_decrease=0.0,\n",
              "                                        min_impurity_split=None,\n",
              "                                        min_samples_leaf=1, min_samples_split=2,\n",
              "                                        min_weight_fraction_leaf=0.0,\n",
              "                                        n_estimators=100, n_jobs=-1,\n",
              "                                        oob_score=False, random_state=None,\n",
              "                                        verbose=0, warm_start=False))],\n",
              "         verbose=False)"
            ]
          },
          "metadata": {
            "tags": []
          },
          "execution_count": 24
        }
      ]
    },
    {
      "cell_type": "code",
      "metadata": {
        "id": "jB2tixe0XnHj",
        "colab_type": "code",
        "colab": {}
      },
      "source": [
        "y_pred=clf.predict(X_test)"
      ],
      "execution_count": null,
      "outputs": []
    },
    {
      "cell_type": "code",
      "metadata": {
        "id": "o5FdXQbYXnHr",
        "colab_type": "code",
        "colab": {},
        "outputId": "9c06dd5e-661d-49cd-8631-f7ea425c919f"
      },
      "source": [
        "confusion_matrix(y_test,y_pred)"
      ],
      "execution_count": null,
      "outputs": [
        {
          "output_type": "execute_result",
          "data": {
            "text/plain": [
              "array([[   3,    0,    6,    1,    3],\n",
              "       [   0, 1988,    3,    2,    0],\n",
              "       [   2,   16,  356,   15,   17],\n",
              "       [   0,   16,   46,   50,   11],\n",
              "       [   0,    5,   35,    1,  385]])"
            ]
          },
          "metadata": {
            "tags": []
          },
          "execution_count": 26
        }
      ]
    },
    {
      "cell_type": "code",
      "metadata": {
        "id": "5StevLJYXnH0",
        "colab_type": "code",
        "colab": {},
        "outputId": "82f3a7bf-047f-49c7-82d6-774f77feb091"
      },
      "source": [
        "print(classification_report(y_test,y_pred))"
      ],
      "execution_count": null,
      "outputs": [
        {
          "output_type": "stream",
          "text": [
            "              precision    recall  f1-score   support\n",
            "\n",
            "         OTP       0.60      0.23      0.33        13\n",
            "     Primary       0.98      1.00      0.99      1993\n",
            " Promotional       0.80      0.88      0.84       406\n",
            "        Spam       0.72      0.41      0.52       123\n",
            "      Update       0.93      0.90      0.91       426\n",
            "\n",
            "    accuracy                           0.94      2961\n",
            "   macro avg       0.81      0.68      0.72      2961\n",
            "weighted avg       0.94      0.94      0.94      2961\n",
            "\n"
          ],
          "name": "stdout"
        }
      ]
    },
    {
      "cell_type": "code",
      "metadata": {
        "id": "unlM1_sKXnH9",
        "colab_type": "code",
        "colab": {},
        "outputId": "97932dd2-51da-4001-8939-d24aa5b84d3e"
      },
      "source": [
        "accuracy_score(y_test,y_pred)"
      ],
      "execution_count": null,
      "outputs": [
        {
          "output_type": "execute_result",
          "data": {
            "text/plain": [
              "0.939547450185748"
            ]
          },
          "metadata": {
            "tags": []
          },
          "execution_count": 28
        }
      ]
    },
    {
      "cell_type": "code",
      "metadata": {
        "id": "62CrjhpzXnIH",
        "colab_type": "code",
        "colab": {},
        "outputId": "6cc36df9-779d-4f36-dc52-56b87e6deabb"
      },
      "source": [
        "df[\"Content\"][100]"
      ],
      "execution_count": null,
      "outputs": [
        {
          "output_type": "execute_result",
          "data": {
            "text/plain": [
              "',\"Your 9646345471 Expiry is due on 07/07/19. Why wait till expiry, Recharge with All-Rounder Pack & get remaining validity + new Pack validity.Dial *121# for more'"
            ]
          },
          "metadata": {
            "tags": []
          },
          "execution_count": 29
        }
      ]
    },
    {
      "cell_type": "code",
      "metadata": {
        "id": "2oKFQH6jXnIQ",
        "colab_type": "code",
        "colab": {},
        "outputId": "1b1b7f67-22e1-47ab-aeaa-3f6b99e3f554"
      },
      "source": [
        "clf.predict([df[\"Content\"][100]])"
      ],
      "execution_count": null,
      "outputs": [
        {
          "output_type": "execute_result",
          "data": {
            "text/plain": [
              "array(['Update'], dtype=object)"
            ]
          },
          "metadata": {
            "tags": []
          },
          "execution_count": 30
        }
      ]
    },
    {
      "cell_type": "code",
      "metadata": {
        "id": "l_UYV0CAXnIX",
        "colab_type": "code",
        "colab": {}
      },
      "source": [
        "pickle.dump(clf,open('model.pkl','wb'))"
      ],
      "execution_count": null,
      "outputs": []
    },
    {
      "cell_type": "code",
      "metadata": {
        "id": "FBvIX8mGXnId",
        "colab_type": "code",
        "colab": {}
      },
      "source": [
        ""
      ],
      "execution_count": null,
      "outputs": []
    }
  ]
}