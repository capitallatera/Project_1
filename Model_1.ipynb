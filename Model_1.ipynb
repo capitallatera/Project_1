{
  "nbformat": 4,
  "nbformat_minor": 0,
  "metadata": {
    "kernelspec": {
      "display_name": "Python 3",
      "language": "python",
      "name": "python3"
    },
    "language_info": {
      "codemirror_mode": {
        "name": "ipython",
        "version": 3
      },
      "file_extension": ".py",
      "mimetype": "text/x-python",
      "name": "python",
      "nbconvert_exporter": "python",
      "pygments_lexer": "ipython3",
      "version": "3.7.4"
    },
    "colab": {
      "name": "Model_1.ipynb",
      "provenance": [],
      "include_colab_link": true
    }
  },
  "cells": [
    {
      "cell_type": "markdown",
      "metadata": {
        "id": "view-in-github",
        "colab_type": "text"
      },
      "source": [
        "<a href=\"https://colab.research.google.com/github/capitallatera/Project_1/blob/master/Model_1.ipynb\" target=\"_parent\"><img src=\"https://colab.research.google.com/assets/colab-badge.svg\" alt=\"Open In Colab\"/></a>"
      ]
    },
    {
      "cell_type": "code",
      "metadata": {
        "id": "-bOrLqiMq2nb",
        "colab_type": "code",
        "colab": {},
        "outputId": "8f6d575e-920e-4010-f48c-23ad778072e7"
      },
      "source": [
        "ls"
      ],
      "execution_count": null,
      "outputs": [
        {
          "output_type": "stream",
          "text": [
            "Classification.ipynb  dataset_1.xlsx  final_dataset.csv    Model_1-Copy3.ipynb\r\n",
            "combined.csv          dataset_2.xlsx  final_dataset.xlsx   Model_1.ipynb\r\n",
            "combined.xlsx         dataset_3.xlsx  Model_1-Copy1.ipynb  model.pkl\r\n",
            "Concatenate.ipynb     EDA.ipynb       Model_1-Copy2.ipynb\r\n"
          ],
          "name": "stdout"
        }
      ]
    },
    {
      "cell_type": "code",
      "metadata": {
        "id": "aIAXBIsQq2n2",
        "colab_type": "code",
        "colab": {}
      },
      "source": [
        "import pandas as pd\n",
        "import numpy as np"
      ],
      "execution_count": null,
      "outputs": []
    },
    {
      "cell_type": "code",
      "metadata": {
        "id": "HY-wSZL1q2oM",
        "colab_type": "code",
        "colab": {}
      },
      "source": [
        "data=pd.read_excel(\"final_dataset.xlsx\")"
      ],
      "execution_count": null,
      "outputs": []
    },
    {
      "cell_type": "code",
      "metadata": {
        "id": "mQA_Rs09q2oZ",
        "colab_type": "code",
        "colab": {}
      },
      "source": [
        "df=data"
      ],
      "execution_count": null,
      "outputs": []
    },
    {
      "cell_type": "code",
      "metadata": {
        "id": "9ArcW-gSq2om",
        "colab_type": "code",
        "colab": {}
      },
      "source": [
        "df_1=df.drop(columns=[\"Unnamed: 0\"])"
      ],
      "execution_count": null,
      "outputs": []
    },
    {
      "cell_type": "code",
      "metadata": {
        "id": "yh7EqDceq2oz",
        "colab_type": "code",
        "colab": {},
        "outputId": "ba989ace-f88c-4e55-c61a-d2fc6078ffc1"
      },
      "source": [
        "df_1.head()"
      ],
      "execution_count": null,
      "outputs": [
        {
          "output_type": "execute_result",
          "data": {
            "text/html": [
              "<div>\n",
              "<style scoped>\n",
              "    .dataframe tbody tr th:only-of-type {\n",
              "        vertical-align: middle;\n",
              "    }\n",
              "\n",
              "    .dataframe tbody tr th {\n",
              "        vertical-align: top;\n",
              "    }\n",
              "\n",
              "    .dataframe thead th {\n",
              "        text-align: right;\n",
              "    }\n",
              "</style>\n",
              "<table border=\"1\" class=\"dataframe\">\n",
              "  <thead>\n",
              "    <tr style=\"text-align: right;\">\n",
              "      <th></th>\n",
              "      <th>Content</th>\n",
              "      <th>Category</th>\n",
              "    </tr>\n",
              "  </thead>\n",
              "  <tbody>\n",
              "    <tr>\n",
              "      <td>0</td>\n",
              "      <td>,\"While receiving an international call, if an...</td>\n",
              "      <td>OTP</td>\n",
              "    </tr>\n",
              "    <tr>\n",
              "      <td>1</td>\n",
              "      <td>,Non-violence is the greatest force at the dis...</td>\n",
              "      <td>OTP</td>\n",
              "    </tr>\n",
              "    <tr>\n",
              "      <td>2</td>\n",
              "      <td>,\"इस गांधी जयंतीआइए, बापू को समर्पित करें एक स...</td>\n",
              "      <td>OTP</td>\n",
              "    </tr>\n",
              "    <tr>\n",
              "      <td>3</td>\n",
              "      <td>,To call woman the weaker sex is a libel; it i...</td>\n",
              "      <td>OTP</td>\n",
              "    </tr>\n",
              "    <tr>\n",
              "      <td>4</td>\n",
              "      <td>,\"I attach the highest importance to quality, ...</td>\n",
              "      <td>OTP</td>\n",
              "    </tr>\n",
              "  </tbody>\n",
              "</table>\n",
              "</div>"
            ],
            "text/plain": [
              "                                             Content Category\n",
              "0  ,\"While receiving an international call, if an...      OTP\n",
              "1  ,Non-violence is the greatest force at the dis...      OTP\n",
              "2  ,\"इस गांधी जयंतीआइए, बापू को समर्पित करें एक स...      OTP\n",
              "3  ,To call woman the weaker sex is a libel; it i...      OTP\n",
              "4  ,\"I attach the highest importance to quality, ...      OTP"
            ]
          },
          "metadata": {
            "tags": []
          },
          "execution_count": 65
        }
      ]
    },
    {
      "cell_type": "code",
      "metadata": {
        "id": "P5V9rXhLq2pA",
        "colab_type": "code",
        "colab": {},
        "outputId": "e05926b0-4417-4dfc-ffe8-82e75634fbfa"
      },
      "source": [
        "df[df[\"Content\"]==0]"
      ],
      "execution_count": null,
      "outputs": [
        {
          "output_type": "execute_result",
          "data": {
            "text/html": [
              "<div>\n",
              "<style scoped>\n",
              "    .dataframe tbody tr th:only-of-type {\n",
              "        vertical-align: middle;\n",
              "    }\n",
              "\n",
              "    .dataframe tbody tr th {\n",
              "        vertical-align: top;\n",
              "    }\n",
              "\n",
              "    .dataframe thead th {\n",
              "        text-align: right;\n",
              "    }\n",
              "</style>\n",
              "<table border=\"1\" class=\"dataframe\">\n",
              "  <thead>\n",
              "    <tr style=\"text-align: right;\">\n",
              "      <th></th>\n",
              "      <th>Unnamed: 0</th>\n",
              "      <th>Content</th>\n",
              "      <th>Category</th>\n",
              "    </tr>\n",
              "  </thead>\n",
              "  <tbody>\n",
              "    <tr>\n",
              "      <td>9716</td>\n",
              "      <td>9716</td>\n",
              "      <td>0</td>\n",
              "      <td>Spam</td>\n",
              "    </tr>\n",
              "  </tbody>\n",
              "</table>\n",
              "</div>"
            ],
            "text/plain": [
              "      Unnamed: 0 Content Category\n",
              "9716        9716       0     Spam"
            ]
          },
          "metadata": {
            "tags": []
          },
          "execution_count": 66
        }
      ]
    },
    {
      "cell_type": "code",
      "metadata": {
        "id": "T2tL7rNqq2pJ",
        "colab_type": "code",
        "colab": {}
      },
      "source": [
        "df=df.drop([9716])"
      ],
      "execution_count": null,
      "outputs": []
    },
    {
      "cell_type": "markdown",
      "metadata": {
        "id": "88KSavV9q2pS",
        "colab_type": "text"
      },
      "source": [
        "### Remove punctuation"
      ]
    },
    {
      "cell_type": "code",
      "metadata": {
        "id": "bJfw6_zuq2pU",
        "colab_type": "code",
        "colab": {},
        "outputId": "3b1305f1-cfed-45b8-d32e-581cf4b9454f"
      },
      "source": [
        "import string\n",
        "string.punctuation"
      ],
      "execution_count": null,
      "outputs": [
        {
          "output_type": "execute_result",
          "data": {
            "text/plain": [
              "'!\"#$%&\\'()*+,-./:;<=>?@[\\\\]^_`{|}~'"
            ]
          },
          "metadata": {
            "tags": []
          },
          "execution_count": 68
        }
      ]
    },
    {
      "cell_type": "code",
      "metadata": {
        "id": "UDZV96kVq2ph",
        "colab_type": "code",
        "colab": {},
        "outputId": "f0ff3226-236c-4613-a79f-2c128b4e00cd"
      },
      "source": [
        "# Function to remove Punctuation\n",
        "def remove_punct(text):\n",
        "    if text != 0:\n",
        "        text_nopunct=\"\".join([char for char in text if char not in string.punctuation])\n",
        "        return text_nopunct\n",
        "df[\"Content_clean\"]=df[\"Content\"].apply(lambda x: remove_punct(x))\n",
        "df.head()"
      ],
      "execution_count": null,
      "outputs": [
        {
          "output_type": "execute_result",
          "data": {
            "text/html": [
              "<div>\n",
              "<style scoped>\n",
              "    .dataframe tbody tr th:only-of-type {\n",
              "        vertical-align: middle;\n",
              "    }\n",
              "\n",
              "    .dataframe tbody tr th {\n",
              "        vertical-align: top;\n",
              "    }\n",
              "\n",
              "    .dataframe thead th {\n",
              "        text-align: right;\n",
              "    }\n",
              "</style>\n",
              "<table border=\"1\" class=\"dataframe\">\n",
              "  <thead>\n",
              "    <tr style=\"text-align: right;\">\n",
              "      <th></th>\n",
              "      <th>Unnamed: 0</th>\n",
              "      <th>Content</th>\n",
              "      <th>Category</th>\n",
              "      <th>Content_clean</th>\n",
              "    </tr>\n",
              "  </thead>\n",
              "  <tbody>\n",
              "    <tr>\n",
              "      <td>0</td>\n",
              "      <td>0</td>\n",
              "      <td>,\"While receiving an international call, if an...</td>\n",
              "      <td>OTP</td>\n",
              "      <td>While receiving an international call if an In...</td>\n",
              "    </tr>\n",
              "    <tr>\n",
              "      <td>1</td>\n",
              "      <td>1</td>\n",
              "      <td>,Non-violence is the greatest force at the dis...</td>\n",
              "      <td>OTP</td>\n",
              "      <td>Nonviolence is the greatest force at the dispo...</td>\n",
              "    </tr>\n",
              "    <tr>\n",
              "      <td>2</td>\n",
              "      <td>2</td>\n",
              "      <td>,\"इस गांधी जयंतीआइए, बापू को समर्पित करें एक स...</td>\n",
              "      <td>OTP</td>\n",
              "      <td>इस गांधी जयंतीआइए बापू को समर्पित करें एक स्वच...</td>\n",
              "    </tr>\n",
              "    <tr>\n",
              "      <td>3</td>\n",
              "      <td>3</td>\n",
              "      <td>,To call woman the weaker sex is a libel; it i...</td>\n",
              "      <td>OTP</td>\n",
              "      <td>To call woman the weaker sex is a libel it is ...</td>\n",
              "    </tr>\n",
              "    <tr>\n",
              "      <td>4</td>\n",
              "      <td>4</td>\n",
              "      <td>,\"I attach the highest importance to quality, ...</td>\n",
              "      <td>OTP</td>\n",
              "      <td>I attach the highest importance to quality irr...</td>\n",
              "    </tr>\n",
              "  </tbody>\n",
              "</table>\n",
              "</div>"
            ],
            "text/plain": [
              "   Unnamed: 0                                            Content Category  \\\n",
              "0           0  ,\"While receiving an international call, if an...      OTP   \n",
              "1           1  ,Non-violence is the greatest force at the dis...      OTP   \n",
              "2           2  ,\"इस गांधी जयंतीआइए, बापू को समर्पित करें एक स...      OTP   \n",
              "3           3  ,To call woman the weaker sex is a libel; it i...      OTP   \n",
              "4           4  ,\"I attach the highest importance to quality, ...      OTP   \n",
              "\n",
              "                                       Content_clean  \n",
              "0  While receiving an international call if an In...  \n",
              "1  Nonviolence is the greatest force at the dispo...  \n",
              "2  इस गांधी जयंतीआइए बापू को समर्पित करें एक स्वच...  \n",
              "3  To call woman the weaker sex is a libel it is ...  \n",
              "4  I attach the highest importance to quality irr...  "
            ]
          },
          "metadata": {
            "tags": []
          },
          "execution_count": 69
        }
      ]
    },
    {
      "cell_type": "markdown",
      "metadata": {
        "id": "NgOMaljRq2ps",
        "colab_type": "text"
      },
      "source": [
        "### Tokenization"
      ]
    },
    {
      "cell_type": "code",
      "metadata": {
        "id": "TCX1O1l5q2pu",
        "colab_type": "code",
        "colab": {}
      },
      "source": [
        "import re\n",
        "\n",
        "# Function to Tokenize Words\n",
        "def tokenize(text):\n",
        "    if text != None:\n",
        "        tokens=re.split('\\W+',text.lower())\n",
        "        return tokens\n"
      ],
      "execution_count": null,
      "outputs": []
    },
    {
      "cell_type": "code",
      "metadata": {
        "id": "4tAd_3Mhq2p5",
        "colab_type": "code",
        "colab": {},
        "outputId": "39f14bbf-faec-4ffc-fadd-377a56ad2fd9"
      },
      "source": [
        "df[\"Content_tokenize\"]=df[\"Content_clean\"].apply(lambda x: tokenize(x))\n",
        "df.head(3)"
      ],
      "execution_count": null,
      "outputs": [
        {
          "output_type": "execute_result",
          "data": {
            "text/html": [
              "<div>\n",
              "<style scoped>\n",
              "    .dataframe tbody tr th:only-of-type {\n",
              "        vertical-align: middle;\n",
              "    }\n",
              "\n",
              "    .dataframe tbody tr th {\n",
              "        vertical-align: top;\n",
              "    }\n",
              "\n",
              "    .dataframe thead th {\n",
              "        text-align: right;\n",
              "    }\n",
              "</style>\n",
              "<table border=\"1\" class=\"dataframe\">\n",
              "  <thead>\n",
              "    <tr style=\"text-align: right;\">\n",
              "      <th></th>\n",
              "      <th>Unnamed: 0</th>\n",
              "      <th>Content</th>\n",
              "      <th>Category</th>\n",
              "      <th>Content_clean</th>\n",
              "      <th>Content_tokenize</th>\n",
              "    </tr>\n",
              "  </thead>\n",
              "  <tbody>\n",
              "    <tr>\n",
              "      <td>0</td>\n",
              "      <td>0</td>\n",
              "      <td>,\"While receiving an international call, if an...</td>\n",
              "      <td>OTP</td>\n",
              "      <td>While receiving an international call if an In...</td>\n",
              "      <td>[while, receiving, an, international, call, if...</td>\n",
              "    </tr>\n",
              "    <tr>\n",
              "      <td>1</td>\n",
              "      <td>1</td>\n",
              "      <td>,Non-violence is the greatest force at the dis...</td>\n",
              "      <td>OTP</td>\n",
              "      <td>Nonviolence is the greatest force at the dispo...</td>\n",
              "      <td>[nonviolence, is, the, greatest, force, at, th...</td>\n",
              "    </tr>\n",
              "    <tr>\n",
              "      <td>2</td>\n",
              "      <td>2</td>\n",
              "      <td>,\"इस गांधी जयंतीआइए, बापू को समर्पित करें एक स...</td>\n",
              "      <td>OTP</td>\n",
              "      <td>इस गांधी जयंतीआइए बापू को समर्पित करें एक स्वच...</td>\n",
              "      <td>[इस, ग, ध, जय, त, आइए, ब, प, क, समर, प, त, कर,...</td>\n",
              "    </tr>\n",
              "  </tbody>\n",
              "</table>\n",
              "</div>"
            ],
            "text/plain": [
              "   Unnamed: 0                                            Content Category  \\\n",
              "0           0  ,\"While receiving an international call, if an...      OTP   \n",
              "1           1  ,Non-violence is the greatest force at the dis...      OTP   \n",
              "2           2  ,\"इस गांधी जयंतीआइए, बापू को समर्पित करें एक स...      OTP   \n",
              "\n",
              "                                       Content_clean  \\\n",
              "0  While receiving an international call if an In...   \n",
              "1  Nonviolence is the greatest force at the dispo...   \n",
              "2  इस गांधी जयंतीआइए बापू को समर्पित करें एक स्वच...   \n",
              "\n",
              "                                    Content_tokenize  \n",
              "0  [while, receiving, an, international, call, if...  \n",
              "1  [nonviolence, is, the, greatest, force, at, th...  \n",
              "2  [इस, ग, ध, जय, त, आइए, ब, प, क, समर, प, त, कर,...  "
            ]
          },
          "metadata": {
            "tags": []
          },
          "execution_count": 71
        }
      ]
    },
    {
      "cell_type": "markdown",
      "metadata": {
        "id": "yBVXrefbq2qD",
        "colab_type": "text"
      },
      "source": [
        "### Preprocessing Data: Using Stemming"
      ]
    },
    {
      "cell_type": "code",
      "metadata": {
        "id": "ILMmHWRxq2qF",
        "colab_type": "code",
        "colab": {},
        "outputId": "ecbee7d7-48c1-472e-c4e4-832c6e6e1a76"
      },
      "source": [
        "import nltk\n",
        "ps=nltk.PorterStemmer()\n",
        "\n",
        "def stemming(tokenized_text):\n",
        "    if tokenized_text != None:\n",
        "        text=[ps.stem(word) for word in tokenized_text]\n",
        "        return text\n",
        "\n",
        "df[\"Content_stem\"]=df[\"Content_tokenize\"].apply(lambda x:stemming(x))\n",
        "df.head(3)"
      ],
      "execution_count": null,
      "outputs": [
        {
          "output_type": "execute_result",
          "data": {
            "text/html": [
              "<div>\n",
              "<style scoped>\n",
              "    .dataframe tbody tr th:only-of-type {\n",
              "        vertical-align: middle;\n",
              "    }\n",
              "\n",
              "    .dataframe tbody tr th {\n",
              "        vertical-align: top;\n",
              "    }\n",
              "\n",
              "    .dataframe thead th {\n",
              "        text-align: right;\n",
              "    }\n",
              "</style>\n",
              "<table border=\"1\" class=\"dataframe\">\n",
              "  <thead>\n",
              "    <tr style=\"text-align: right;\">\n",
              "      <th></th>\n",
              "      <th>Unnamed: 0</th>\n",
              "      <th>Content</th>\n",
              "      <th>Category</th>\n",
              "      <th>Content_clean</th>\n",
              "      <th>Content_tokenize</th>\n",
              "      <th>Content_stem</th>\n",
              "    </tr>\n",
              "  </thead>\n",
              "  <tbody>\n",
              "    <tr>\n",
              "      <td>0</td>\n",
              "      <td>0</td>\n",
              "      <td>,\"While receiving an international call, if an...</td>\n",
              "      <td>OTP</td>\n",
              "      <td>While receiving an international call if an In...</td>\n",
              "      <td>[while, receiving, an, international, call, if...</td>\n",
              "      <td>[while, receiv, an, intern, call, if, an, indi...</td>\n",
              "    </tr>\n",
              "    <tr>\n",
              "      <td>1</td>\n",
              "      <td>1</td>\n",
              "      <td>,Non-violence is the greatest force at the dis...</td>\n",
              "      <td>OTP</td>\n",
              "      <td>Nonviolence is the greatest force at the dispo...</td>\n",
              "      <td>[nonviolence, is, the, greatest, force, at, th...</td>\n",
              "      <td>[nonviol, is, the, greatest, forc, at, the, di...</td>\n",
              "    </tr>\n",
              "    <tr>\n",
              "      <td>2</td>\n",
              "      <td>2</td>\n",
              "      <td>,\"इस गांधी जयंतीआइए, बापू को समर्पित करें एक स...</td>\n",
              "      <td>OTP</td>\n",
              "      <td>इस गांधी जयंतीआइए बापू को समर्पित करें एक स्वच...</td>\n",
              "      <td>[इस, ग, ध, जय, त, आइए, ब, प, क, समर, प, त, कर,...</td>\n",
              "      <td>[इस, ग, ध, जय, त, आइए, ब, प, क, समर, प, त, कर,...</td>\n",
              "    </tr>\n",
              "  </tbody>\n",
              "</table>\n",
              "</div>"
            ],
            "text/plain": [
              "   Unnamed: 0                                            Content Category  \\\n",
              "0           0  ,\"While receiving an international call, if an...      OTP   \n",
              "1           1  ,Non-violence is the greatest force at the dis...      OTP   \n",
              "2           2  ,\"इस गांधी जयंतीआइए, बापू को समर्पित करें एक स...      OTP   \n",
              "\n",
              "                                       Content_clean  \\\n",
              "0  While receiving an international call if an In...   \n",
              "1  Nonviolence is the greatest force at the dispo...   \n",
              "2  इस गांधी जयंतीआइए बापू को समर्पित करें एक स्वच...   \n",
              "\n",
              "                                    Content_tokenize  \\\n",
              "0  [while, receiving, an, international, call, if...   \n",
              "1  [nonviolence, is, the, greatest, force, at, th...   \n",
              "2  [इस, ग, ध, जय, त, आइए, ब, प, क, समर, प, त, कर,...   \n",
              "\n",
              "                                        Content_stem  \n",
              "0  [while, receiv, an, intern, call, if, an, indi...  \n",
              "1  [nonviol, is, the, greatest, forc, at, the, di...  \n",
              "2  [इस, ग, ध, जय, त, आइए, ब, प, क, समर, प, त, कर,...  "
            ]
          },
          "metadata": {
            "tags": []
          },
          "execution_count": 72
        }
      ]
    },
    {
      "cell_type": "markdown",
      "metadata": {
        "id": "BoKSJ3hGq2qP",
        "colab_type": "text"
      },
      "source": [
        "### Preprocessing Data: Using a Lemmatizer"
      ]
    },
    {
      "cell_type": "code",
      "metadata": {
        "id": "kp50MZQxq2qQ",
        "colab_type": "code",
        "colab": {}
      },
      "source": [
        ""
      ],
      "execution_count": null,
      "outputs": []
    },
    {
      "cell_type": "code",
      "metadata": {
        "id": "xcWmidLpq2qZ",
        "colab_type": "code",
        "colab": {},
        "outputId": "fe6c51f8-b827-462e-f38d-78b7588509b4"
      },
      "source": [
        "wn=nltk.WordNetLemmatizer()\n",
        "\n",
        "def lemmatizing(tokenized_text):\n",
        "    if tokenized_text != None:\n",
        "        text=[wn.lemmatize(word) for word in tokenized_text]\n",
        "        return text\n",
        "\n",
        "df[\"Content_lemmatized\"]=df[\"Content_tokenize\"].apply(lambda x: lemmatizing(x))\n",
        "df.head(3)"
      ],
      "execution_count": null,
      "outputs": [
        {
          "output_type": "execute_result",
          "data": {
            "text/html": [
              "<div>\n",
              "<style scoped>\n",
              "    .dataframe tbody tr th:only-of-type {\n",
              "        vertical-align: middle;\n",
              "    }\n",
              "\n",
              "    .dataframe tbody tr th {\n",
              "        vertical-align: top;\n",
              "    }\n",
              "\n",
              "    .dataframe thead th {\n",
              "        text-align: right;\n",
              "    }\n",
              "</style>\n",
              "<table border=\"1\" class=\"dataframe\">\n",
              "  <thead>\n",
              "    <tr style=\"text-align: right;\">\n",
              "      <th></th>\n",
              "      <th>Unnamed: 0</th>\n",
              "      <th>Content</th>\n",
              "      <th>Category</th>\n",
              "      <th>Content_clean</th>\n",
              "      <th>Content_tokenize</th>\n",
              "      <th>Content_stem</th>\n",
              "      <th>Content_lemmatized</th>\n",
              "    </tr>\n",
              "  </thead>\n",
              "  <tbody>\n",
              "    <tr>\n",
              "      <td>0</td>\n",
              "      <td>0</td>\n",
              "      <td>,\"While receiving an international call, if an...</td>\n",
              "      <td>OTP</td>\n",
              "      <td>While receiving an international call if an In...</td>\n",
              "      <td>[while, receiving, an, international, call, if...</td>\n",
              "      <td>[while, receiv, an, intern, call, if, an, indi...</td>\n",
              "      <td>[while, receiving, an, international, call, if...</td>\n",
              "    </tr>\n",
              "    <tr>\n",
              "      <td>1</td>\n",
              "      <td>1</td>\n",
              "      <td>,Non-violence is the greatest force at the dis...</td>\n",
              "      <td>OTP</td>\n",
              "      <td>Nonviolence is the greatest force at the dispo...</td>\n",
              "      <td>[nonviolence, is, the, greatest, force, at, th...</td>\n",
              "      <td>[nonviol, is, the, greatest, forc, at, the, di...</td>\n",
              "      <td>[nonviolence, is, the, greatest, force, at, th...</td>\n",
              "    </tr>\n",
              "    <tr>\n",
              "      <td>2</td>\n",
              "      <td>2</td>\n",
              "      <td>,\"इस गांधी जयंतीआइए, बापू को समर्पित करें एक स...</td>\n",
              "      <td>OTP</td>\n",
              "      <td>इस गांधी जयंतीआइए बापू को समर्पित करें एक स्वच...</td>\n",
              "      <td>[इस, ग, ध, जय, त, आइए, ब, प, क, समर, प, त, कर,...</td>\n",
              "      <td>[इस, ग, ध, जय, त, आइए, ब, प, क, समर, प, त, कर,...</td>\n",
              "      <td>[इस, ग, ध, जय, त, आइए, ब, प, क, समर, प, त, कर,...</td>\n",
              "    </tr>\n",
              "  </tbody>\n",
              "</table>\n",
              "</div>"
            ],
            "text/plain": [
              "   Unnamed: 0                                            Content Category  \\\n",
              "0           0  ,\"While receiving an international call, if an...      OTP   \n",
              "1           1  ,Non-violence is the greatest force at the dis...      OTP   \n",
              "2           2  ,\"इस गांधी जयंतीआइए, बापू को समर्पित करें एक स...      OTP   \n",
              "\n",
              "                                       Content_clean  \\\n",
              "0  While receiving an international call if an In...   \n",
              "1  Nonviolence is the greatest force at the dispo...   \n",
              "2  इस गांधी जयंतीआइए बापू को समर्पित करें एक स्वच...   \n",
              "\n",
              "                                    Content_tokenize  \\\n",
              "0  [while, receiving, an, international, call, if...   \n",
              "1  [nonviolence, is, the, greatest, force, at, th...   \n",
              "2  [इस, ग, ध, जय, त, आइए, ब, प, क, समर, प, त, कर,...   \n",
              "\n",
              "                                        Content_stem  \\\n",
              "0  [while, receiv, an, intern, call, if, an, indi...   \n",
              "1  [nonviol, is, the, greatest, forc, at, the, di...   \n",
              "2  [इस, ग, ध, जय, त, आइए, ब, प, क, समर, प, त, कर,...   \n",
              "\n",
              "                                  Content_lemmatized  \n",
              "0  [while, receiving, an, international, call, if...  \n",
              "1  [nonviolence, is, the, greatest, force, at, th...  \n",
              "2  [इस, ग, ध, जय, त, आइए, ब, प, क, समर, प, त, कर,...  "
            ]
          },
          "metadata": {
            "tags": []
          },
          "execution_count": 73
        }
      ]
    },
    {
      "cell_type": "code",
      "metadata": {
        "id": "8L1C98gFq2qi",
        "colab_type": "code",
        "colab": {},
        "outputId": "eaea2ee3-bcf2-482a-fd06-87062574099c"
      },
      "source": [
        "df.isna().sum()"
      ],
      "execution_count": null,
      "outputs": [
        {
          "output_type": "execute_result",
          "data": {
            "text/plain": [
              "Unnamed: 0            0\n",
              "Content               0\n",
              "Category              0\n",
              "Content_clean         0\n",
              "Content_tokenize      0\n",
              "Content_stem          0\n",
              "Content_lemmatized    0\n",
              "dtype: int64"
            ]
          },
          "metadata": {
            "tags": []
          },
          "execution_count": 74
        }
      ]
    },
    {
      "cell_type": "code",
      "metadata": {
        "id": "Uk2hoxkqq2qq",
        "colab_type": "code",
        "colab": {}
      },
      "source": [
        "### Model Building"
      ],
      "execution_count": null,
      "outputs": []
    },
    {
      "cell_type": "code",
      "metadata": {
        "id": "oROIXT-2q2qw",
        "colab_type": "code",
        "colab": {}
      },
      "source": [
        "from sklearn.model_selection import train_test_split\n",
        "from sklearn.ensemble import RandomForestClassifier\n",
        "from sklearn.svm import SVC\n",
        "from sklearn.metrics import accuracy_score, classification_report, confusion_matrix\n",
        "from sklearn.pipeline import Pipeline\n",
        "from sklearn.feature_extraction.text import TfidfVectorizer\n",
        "from sklearn import preprocessing\n",
        "import pickle\n",
        "import seaborn as sns\n",
        "import matplotlib.pyplot as plt\n",
        "%matplotlib inline"
      ],
      "execution_count": null,
      "outputs": []
    },
    {
      "cell_type": "code",
      "metadata": {
        "id": "2PbQOOVoq2rA",
        "colab_type": "code",
        "colab": {}
      },
      "source": [
        "X_train,X_test,y_train,y_test=train_test_split(df['Content_clean'],df[\"Category\"],test_size=0.3)"
      ],
      "execution_count": null,
      "outputs": []
    },
    {
      "cell_type": "code",
      "metadata": {
        "id": "J1seiS04q2rG",
        "colab_type": "code",
        "colab": {},
        "outputId": "e809070f-0a9a-49a5-9f7d-907e396c49fc"
      },
      "source": [
        "vectorizer=TfidfVectorizer()\n",
        "X=vectorizer.fit_transform(X_train)\n",
        "# print(vectorizer.get_feature_names())\n",
        "X.shape"
      ],
      "execution_count": null,
      "outputs": [
        {
          "output_type": "execute_result",
          "data": {
            "text/plain": [
              "(6909, 8115)"
            ]
          },
          "metadata": {
            "tags": []
          },
          "execution_count": 78
        }
      ]
    },
    {
      "cell_type": "code",
      "metadata": {
        "id": "AbBFMwlsq2rP",
        "colab_type": "code",
        "colab": {}
      },
      "source": [
        "clf=Pipeline([('tfidf',TfidfVectorizer()),('clf',RandomForestClassifier(n_estimators=100,n_jobs=-1))])"
      ],
      "execution_count": null,
      "outputs": []
    },
    {
      "cell_type": "code",
      "metadata": {
        "scrolled": true,
        "id": "MQvj_cbgq2rb",
        "colab_type": "code",
        "colab": {},
        "outputId": "518ec3ba-933c-4f03-d8e7-1234f5411eee"
      },
      "source": [
        "clf.fit(X_train,y_train)"
      ],
      "execution_count": null,
      "outputs": [
        {
          "output_type": "execute_result",
          "data": {
            "text/plain": [
              "Pipeline(memory=None,\n",
              "         steps=[('tfidf',\n",
              "                 TfidfVectorizer(analyzer='word', binary=False,\n",
              "                                 decode_error='strict',\n",
              "                                 dtype=<class 'numpy.float64'>,\n",
              "                                 encoding='utf-8', input='content',\n",
              "                                 lowercase=True, max_df=1.0, max_features=None,\n",
              "                                 min_df=1, ngram_range=(1, 1), norm='l2',\n",
              "                                 preprocessor=None, smooth_idf=True,\n",
              "                                 stop_words=None, strip_accents=None,\n",
              "                                 sublinear_tf=False,\n",
              "                                 token_pattern='...\n",
              "                 RandomForestClassifier(bootstrap=True, class_weight=None,\n",
              "                                        criterion='gini', max_depth=None,\n",
              "                                        max_features='auto',\n",
              "                                        max_leaf_nodes=None,\n",
              "                                        min_impurity_decrease=0.0,\n",
              "                                        min_impurity_split=None,\n",
              "                                        min_samples_leaf=1, min_samples_split=2,\n",
              "                                        min_weight_fraction_leaf=0.0,\n",
              "                                        n_estimators=100, n_jobs=-1,\n",
              "                                        oob_score=False, random_state=None,\n",
              "                                        verbose=0, warm_start=False))],\n",
              "         verbose=False)"
            ]
          },
          "metadata": {
            "tags": []
          },
          "execution_count": 80
        }
      ]
    },
    {
      "cell_type": "code",
      "metadata": {
        "id": "bS7WlhvTq2ri",
        "colab_type": "code",
        "colab": {}
      },
      "source": [
        "y_pred=clf.predict(X_test)"
      ],
      "execution_count": null,
      "outputs": []
    },
    {
      "cell_type": "code",
      "metadata": {
        "scrolled": true,
        "id": "-2DfbsE6q2rq",
        "colab_type": "code",
        "colab": {},
        "outputId": "0609bc03-403f-4b48-94cc-a9df12c832c9"
      },
      "source": [
        "confusion_matrix(y_test,y_pred)"
      ],
      "execution_count": null,
      "outputs": [
        {
          "output_type": "execute_result",
          "data": {
            "text/plain": [
              "array([[   7,    0,    5,    0,    2],\n",
              "       [   0, 2021,    2,    1,    1],\n",
              "       [   1,   17,  351,   22,   15],\n",
              "       [   0,   14,   41,   58,    2],\n",
              "       [   1,    3,   26,    6,  365]])"
            ]
          },
          "metadata": {
            "tags": []
          },
          "execution_count": 82
        }
      ]
    },
    {
      "cell_type": "code",
      "metadata": {
        "id": "WLTcRwXcq2r0",
        "colab_type": "code",
        "colab": {},
        "outputId": "42d0d156-04dd-4ff5-9573-6808518bed21"
      },
      "source": [
        "confusion_matrix = pd.crosstab(y_test, y_pred, rownames=['True Label'], colnames=['Predicted Label'], margins = True)\n",
        "sns.heatmap(confusion_matrix,linewidths=.5, annot=True,square=False,fmt='d')\n",
        "plt.show()"
      ],
      "execution_count": null,
      "outputs": [
        {
          "output_type": "display_data",
          "data": {
            "image/png": "[encoded data removed]",
            "text/plain": [
              "<Figure size 432x288 with 2 Axes>"
            ]
          },
          "metadata": {
            "tags": [],
            "needs_background": "light"
          }
        }
      ]
    },
    {
      "cell_type": "code",
      "metadata": {
        "scrolled": true,
        "id": "o6mFUIxSq2r8",
        "colab_type": "code",
        "colab": {},
        "outputId": "ffb6f8f6-4c12-42e9-8a6a-f1e8231f27c9"
      },
      "source": [
        "print(classification_report(y_test,y_pred))"
      ],
      "execution_count": null,
      "outputs": [
        {
          "output_type": "stream",
          "text": [
            "              precision    recall  f1-score   support\n",
            "\n",
            "         OTP       0.78      0.50      0.61        14\n",
            "     Primary       0.98      1.00      0.99      2025\n",
            " Promotional       0.83      0.86      0.84       406\n",
            "        Spam       0.67      0.50      0.57       115\n",
            "      Update       0.95      0.91      0.93       401\n",
            "\n",
            "    accuracy                           0.95      2961\n",
            "   macro avg       0.84      0.76      0.79      2961\n",
            "weighted avg       0.94      0.95      0.94      2961\n",
            "\n"
          ],
          "name": "stdout"
        }
      ]
    },
    {
      "cell_type": "code",
      "metadata": {
        "id": "TtE30IWAq2sG",
        "colab_type": "code",
        "colab": {},
        "outputId": "b4bbe59d-67b8-4bf9-e56a-ba49102d2638"
      },
      "source": [
        "accuracy_score(y_test,y_pred)"
      ],
      "execution_count": null,
      "outputs": [
        {
          "output_type": "execute_result",
          "data": {
            "text/plain": [
              "0.9463019250253293"
            ]
          },
          "metadata": {
            "tags": []
          },
          "execution_count": 86
        }
      ]
    },
    {
      "cell_type": "code",
      "metadata": {
        "id": "KGOXHba7q2sM",
        "colab_type": "code",
        "colab": {},
        "outputId": "11b3de4e-5304-4a22-ccac-70cd5f7d5316"
      },
      "source": [
        "df[\"Content\"][100]"
      ],
      "execution_count": null,
      "outputs": [
        {
          "output_type": "execute_result",
          "data": {
            "text/plain": [
              "',\"Your 9646345471 Expiry is due on 07/07/19. Why wait till expiry, Recharge with All-Rounder Pack & get remaining validity + new Pack validity.Dial *121# for more'"
            ]
          },
          "metadata": {
            "tags": []
          },
          "execution_count": 87
        }
      ]
    },
    {
      "cell_type": "code",
      "metadata": {
        "id": "459wPWP2q2sT",
        "colab_type": "code",
        "colab": {},
        "outputId": "7729b60d-146e-456d-ecf9-2c26efdb5fbe"
      },
      "source": [
        "clf.predict([df[\"Content\"][100]])"
      ],
      "execution_count": null,
      "outputs": [
        {
          "output_type": "execute_result",
          "data": {
            "text/plain": [
              "array(['Update'], dtype=object)"
            ]
          },
          "metadata": {
            "tags": []
          },
          "execution_count": 88
        }
      ]
    },
    {
      "cell_type": "code",
      "metadata": {
        "id": "vCQoo62Rq2sY",
        "colab_type": "code",
        "colab": {}
      },
      "source": [
        "pickle.dump(clf,open('model.pkl','wb'))"
      ],
      "execution_count": null,
      "outputs": []
    },
    {
      "cell_type": "code",
      "metadata": {
        "id": "Idz_g_2eq2sf",
        "colab_type": "code",
        "colab": {}
      },
      "source": [
        ""
      ],
      "execution_count": null,
      "outputs": []
    }
  ]
}