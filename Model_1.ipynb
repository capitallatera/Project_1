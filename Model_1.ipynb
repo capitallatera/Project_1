{
  "nbformat": 4,
  "nbformat_minor": 0,
  "metadata": {
    "kernelspec": {
      "display_name": "Python 3",
      "language": "python",
      "name": "python3"
    },
    "language_info": {
      "codemirror_mode": {
        "name": "ipython",
        "version": 3
      },
      "file_extension": ".py",
      "mimetype": "text/x-python",
      "name": "python",
      "nbconvert_exporter": "python",
      "pygments_lexer": "ipython3",
      "version": "3.7.4"
    },
    "colab": {
      "name": "Model_1.ipynb",
      "provenance": [],
      "include_colab_link": true
    }
  },
  "cells": [
    {
      "cell_type": "markdown",
      "metadata": {
        "id": "view-in-github",
        "colab_type": "text"
      },
      "source": [
        "<a href=\"https://colab.research.google.com/github/capitallatera/Project_1/blob/master/Model_1.ipynb\" target=\"_parent\"><img src=\"https://colab.research.google.com/assets/colab-badge.svg\" alt=\"Open In Colab\"/></a>"
      ]
    },
    {
      "cell_type": "code",
      "metadata": {
        "id": "RdG7y0UkPmoo",
        "colab_type": "code",
        "colab": {},
        "outputId": "af10efac-6815-41fa-d345-3d97f9703a83"
      },
      "source": [
        "ls"
      ],
      "execution_count": null,
      "outputs": [
        {
          "output_type": "stream",
          "text": [
            "Classification_Del.ipynb  dataset_2.xlsx       Model_1-Copy2.ipynb\r\n",
            "Classification.ipynb      dataset_3.xlsx       Model_1-Copy3.ipynb\r\n",
            "combined.csv              EDA.ipynb            Model_1.ipynb\r\n",
            "combined.xlsx             final_dataset.csv    model.pkl\r\n",
            "Concatenate.ipynb         final_dataset.xlsx\r\n",
            "dataset_1.xlsx            Model_1-Copy1.ipynb\r\n"
          ],
          "name": "stdout"
        }
      ]
    },
    {
      "cell_type": "code",
      "metadata": {
        "id": "_-Z0oldNPmo7",
        "colab_type": "code",
        "colab": {}
      },
      "source": [
        "import pandas as pd\n",
        "import numpy as np"
      ],
      "execution_count": null,
      "outputs": []
    },
    {
      "cell_type": "code",
      "metadata": {
        "id": "pdJZPEEyPmpM",
        "colab_type": "code",
        "colab": {}
      },
      "source": [
        "data=pd.read_excel(\"final_dataset.xlsx\")"
      ],
      "execution_count": null,
      "outputs": []
    },
    {
      "cell_type": "code",
      "metadata": {
        "id": "11-fsAuSPmpZ",
        "colab_type": "code",
        "colab": {}
      },
      "source": [
        "df=data"
      ],
      "execution_count": null,
      "outputs": []
    },
    {
      "cell_type": "code",
      "metadata": {
        "id": "XokBbcxMPmpk",
        "colab_type": "code",
        "colab": {}
      },
      "source": [
        "df_1=df.drop(columns=[\"Unnamed: 0\"])"
      ],
      "execution_count": null,
      "outputs": []
    },
    {
      "cell_type": "code",
      "metadata": {
        "id": "olrnoMXXPmpx",
        "colab_type": "code",
        "colab": {},
        "outputId": "0c8f1094-2ad5-48aa-b26b-07d11d76c48c"
      },
      "source": [
        "df_1.head()"
      ],
      "execution_count": null,
      "outputs": [
        {
          "output_type": "execute_result",
          "data": {
            "text/html": [
              "<div>\n",
              "<style scoped>\n",
              "    .dataframe tbody tr th:only-of-type {\n",
              "        vertical-align: middle;\n",
              "    }\n",
              "\n",
              "    .dataframe tbody tr th {\n",
              "        vertical-align: top;\n",
              "    }\n",
              "\n",
              "    .dataframe thead th {\n",
              "        text-align: right;\n",
              "    }\n",
              "</style>\n",
              "<table border=\"1\" class=\"dataframe\">\n",
              "  <thead>\n",
              "    <tr style=\"text-align: right;\">\n",
              "      <th></th>\n",
              "      <th>Content</th>\n",
              "      <th>Category</th>\n",
              "    </tr>\n",
              "  </thead>\n",
              "  <tbody>\n",
              "    <tr>\n",
              "      <td>0</td>\n",
              "      <td>,\"While receiving an international call, if an...</td>\n",
              "      <td>Promotional</td>\n",
              "    </tr>\n",
              "    <tr>\n",
              "      <td>1</td>\n",
              "      <td>,Non-violence is the greatest force at the dis...</td>\n",
              "      <td>Promotional</td>\n",
              "    </tr>\n",
              "    <tr>\n",
              "      <td>2</td>\n",
              "      <td>,\"इस गांधी जयंतीआइए, बापू को समर्पित करें एक स...</td>\n",
              "      <td>Promotional</td>\n",
              "    </tr>\n",
              "    <tr>\n",
              "      <td>3</td>\n",
              "      <td>,To call woman the weaker sex is a libel; it i...</td>\n",
              "      <td>Promotional</td>\n",
              "    </tr>\n",
              "    <tr>\n",
              "      <td>4</td>\n",
              "      <td>,\"I attach the highest importance to quality, ...</td>\n",
              "      <td>Promotional</td>\n",
              "    </tr>\n",
              "  </tbody>\n",
              "</table>\n",
              "</div>"
            ],
            "text/plain": [
              "                                             Content     Category\n",
              "0  ,\"While receiving an international call, if an...  Promotional\n",
              "1  ,Non-violence is the greatest force at the dis...  Promotional\n",
              "2  ,\"इस गांधी जयंतीआइए, बापू को समर्पित करें एक स...  Promotional\n",
              "3  ,To call woman the weaker sex is a libel; it i...  Promotional\n",
              "4  ,\"I attach the highest importance to quality, ...  Promotional"
            ]
          },
          "metadata": {
            "tags": []
          },
          "execution_count": 6
        }
      ]
    },
    {
      "cell_type": "code",
      "metadata": {
        "id": "eLD_2pzjPmp8",
        "colab_type": "code",
        "colab": {},
        "outputId": "ca4bc17a-a2cc-4aa8-b526-bcb66aecd3f5"
      },
      "source": [
        "df[df[\"Content\"]==0]"
      ],
      "execution_count": null,
      "outputs": [
        {
          "output_type": "execute_result",
          "data": {
            "text/html": [
              "<div>\n",
              "<style scoped>\n",
              "    .dataframe tbody tr th:only-of-type {\n",
              "        vertical-align: middle;\n",
              "    }\n",
              "\n",
              "    .dataframe tbody tr th {\n",
              "        vertical-align: top;\n",
              "    }\n",
              "\n",
              "    .dataframe thead th {\n",
              "        text-align: right;\n",
              "    }\n",
              "</style>\n",
              "<table border=\"1\" class=\"dataframe\">\n",
              "  <thead>\n",
              "    <tr style=\"text-align: right;\">\n",
              "      <th></th>\n",
              "      <th>Unnamed: 0</th>\n",
              "      <th>Content</th>\n",
              "      <th>Category</th>\n",
              "    </tr>\n",
              "  </thead>\n",
              "  <tbody>\n",
              "    <tr>\n",
              "      <td>9716</td>\n",
              "      <td>9716</td>\n",
              "      <td>0</td>\n",
              "      <td>Spam</td>\n",
              "    </tr>\n",
              "  </tbody>\n",
              "</table>\n",
              "</div>"
            ],
            "text/plain": [
              "      Unnamed: 0 Content Category\n",
              "9716        9716       0     Spam"
            ]
          },
          "metadata": {
            "tags": []
          },
          "execution_count": 7
        }
      ]
    },
    {
      "cell_type": "code",
      "metadata": {
        "id": "6PwY2TygPmqG",
        "colab_type": "code",
        "colab": {}
      },
      "source": [
        "df=df.drop([9716])"
      ],
      "execution_count": null,
      "outputs": []
    },
    {
      "cell_type": "markdown",
      "metadata": {
        "id": "aNmNk9O_PmqN",
        "colab_type": "text"
      },
      "source": [
        "### Remove punctuation"
      ]
    },
    {
      "cell_type": "code",
      "metadata": {
        "id": "xVESpAYRPmqQ",
        "colab_type": "code",
        "colab": {},
        "outputId": "4a20adc3-4a22-4a5d-f7c4-f172b5f41502"
      },
      "source": [
        "import string\n",
        "string.punctuation"
      ],
      "execution_count": null,
      "outputs": [
        {
          "output_type": "execute_result",
          "data": {
            "text/plain": [
              "'!\"#$%&\\'()*+,-./:;<=>?@[\\\\]^_`{|}~'"
            ]
          },
          "metadata": {
            "tags": []
          },
          "execution_count": 9
        }
      ]
    },
    {
      "cell_type": "code",
      "metadata": {
        "id": "id9PbxqkPmqa",
        "colab_type": "code",
        "colab": {},
        "outputId": "b9d2e830-556a-4281-df29-cb571d8666d9"
      },
      "source": [
        "# Function to remove Punctuation\n",
        "def remove_punct(text):\n",
        "    if text != 0:\n",
        "        text_nopunct=\"\".join([char for char in text if char not in string.punctuation])\n",
        "        return text_nopunct\n",
        "df[\"Content_clean\"]=df[\"Content\"].apply(lambda x: remove_punct(x))\n",
        "df.head()"
      ],
      "execution_count": null,
      "outputs": [
        {
          "output_type": "execute_result",
          "data": {
            "text/html": [
              "<div>\n",
              "<style scoped>\n",
              "    .dataframe tbody tr th:only-of-type {\n",
              "        vertical-align: middle;\n",
              "    }\n",
              "\n",
              "    .dataframe tbody tr th {\n",
              "        vertical-align: top;\n",
              "    }\n",
              "\n",
              "    .dataframe thead th {\n",
              "        text-align: right;\n",
              "    }\n",
              "</style>\n",
              "<table border=\"1\" class=\"dataframe\">\n",
              "  <thead>\n",
              "    <tr style=\"text-align: right;\">\n",
              "      <th></th>\n",
              "      <th>Unnamed: 0</th>\n",
              "      <th>Content</th>\n",
              "      <th>Category</th>\n",
              "      <th>Content_clean</th>\n",
              "    </tr>\n",
              "  </thead>\n",
              "  <tbody>\n",
              "    <tr>\n",
              "      <td>0</td>\n",
              "      <td>0</td>\n",
              "      <td>,\"While receiving an international call, if an...</td>\n",
              "      <td>Promotional</td>\n",
              "      <td>While receiving an international call if an In...</td>\n",
              "    </tr>\n",
              "    <tr>\n",
              "      <td>1</td>\n",
              "      <td>1</td>\n",
              "      <td>,Non-violence is the greatest force at the dis...</td>\n",
              "      <td>Promotional</td>\n",
              "      <td>Nonviolence is the greatest force at the dispo...</td>\n",
              "    </tr>\n",
              "    <tr>\n",
              "      <td>2</td>\n",
              "      <td>2</td>\n",
              "      <td>,\"इस गांधी जयंतीआइए, बापू को समर्पित करें एक स...</td>\n",
              "      <td>Promotional</td>\n",
              "      <td>इस गांधी जयंतीआइए बापू को समर्पित करें एक स्वच...</td>\n",
              "    </tr>\n",
              "    <tr>\n",
              "      <td>3</td>\n",
              "      <td>3</td>\n",
              "      <td>,To call woman the weaker sex is a libel; it i...</td>\n",
              "      <td>Promotional</td>\n",
              "      <td>To call woman the weaker sex is a libel it is ...</td>\n",
              "    </tr>\n",
              "    <tr>\n",
              "      <td>4</td>\n",
              "      <td>4</td>\n",
              "      <td>,\"I attach the highest importance to quality, ...</td>\n",
              "      <td>Promotional</td>\n",
              "      <td>I attach the highest importance to quality irr...</td>\n",
              "    </tr>\n",
              "  </tbody>\n",
              "</table>\n",
              "</div>"
            ],
            "text/plain": [
              "   Unnamed: 0                                            Content     Category  \\\n",
              "0           0  ,\"While receiving an international call, if an...  Promotional   \n",
              "1           1  ,Non-violence is the greatest force at the dis...  Promotional   \n",
              "2           2  ,\"इस गांधी जयंतीआइए, बापू को समर्पित करें एक स...  Promotional   \n",
              "3           3  ,To call woman the weaker sex is a libel; it i...  Promotional   \n",
              "4           4  ,\"I attach the highest importance to quality, ...  Promotional   \n",
              "\n",
              "                                       Content_clean  \n",
              "0  While receiving an international call if an In...  \n",
              "1  Nonviolence is the greatest force at the dispo...  \n",
              "2  इस गांधी जयंतीआइए बापू को समर्पित करें एक स्वच...  \n",
              "3  To call woman the weaker sex is a libel it is ...  \n",
              "4  I attach the highest importance to quality irr...  "
            ]
          },
          "metadata": {
            "tags": []
          },
          "execution_count": 10
        }
      ]
    },
    {
      "cell_type": "markdown",
      "metadata": {
        "id": "NwM043y9Pmqk",
        "colab_type": "text"
      },
      "source": [
        "### Tokenization"
      ]
    },
    {
      "cell_type": "code",
      "metadata": {
        "id": "iEzZ-vHWPmqm",
        "colab_type": "code",
        "colab": {}
      },
      "source": [
        "import re\n",
        "\n",
        "# Function to Tokenize Words\n",
        "def tokenize(text):\n",
        "    if text != None:\n",
        "        tokens=re.split('\\W+',text.lower())\n",
        "        return tokens\n"
      ],
      "execution_count": null,
      "outputs": []
    },
    {
      "cell_type": "code",
      "metadata": {
        "id": "SEvuXHJgPmqw",
        "colab_type": "code",
        "colab": {},
        "outputId": "88b0782b-9d6a-48b3-d7eb-cacc6e639813"
      },
      "source": [
        "df[\"Content_tokenize\"]=df[\"Content_clean\"].apply(lambda x: tokenize(x))\n",
        "df.head(3)"
      ],
      "execution_count": null,
      "outputs": [
        {
          "output_type": "execute_result",
          "data": {
            "text/html": [
              "<div>\n",
              "<style scoped>\n",
              "    .dataframe tbody tr th:only-of-type {\n",
              "        vertical-align: middle;\n",
              "    }\n",
              "\n",
              "    .dataframe tbody tr th {\n",
              "        vertical-align: top;\n",
              "    }\n",
              "\n",
              "    .dataframe thead th {\n",
              "        text-align: right;\n",
              "    }\n",
              "</style>\n",
              "<table border=\"1\" class=\"dataframe\">\n",
              "  <thead>\n",
              "    <tr style=\"text-align: right;\">\n",
              "      <th></th>\n",
              "      <th>Unnamed: 0</th>\n",
              "      <th>Content</th>\n",
              "      <th>Category</th>\n",
              "      <th>Content_clean</th>\n",
              "      <th>Content_tokenize</th>\n",
              "    </tr>\n",
              "  </thead>\n",
              "  <tbody>\n",
              "    <tr>\n",
              "      <td>0</td>\n",
              "      <td>0</td>\n",
              "      <td>,\"While receiving an international call, if an...</td>\n",
              "      <td>Promotional</td>\n",
              "      <td>While receiving an international call if an In...</td>\n",
              "      <td>[while, receiving, an, international, call, if...</td>\n",
              "    </tr>\n",
              "    <tr>\n",
              "      <td>1</td>\n",
              "      <td>1</td>\n",
              "      <td>,Non-violence is the greatest force at the dis...</td>\n",
              "      <td>Promotional</td>\n",
              "      <td>Nonviolence is the greatest force at the dispo...</td>\n",
              "      <td>[nonviolence, is, the, greatest, force, at, th...</td>\n",
              "    </tr>\n",
              "    <tr>\n",
              "      <td>2</td>\n",
              "      <td>2</td>\n",
              "      <td>,\"इस गांधी जयंतीआइए, बापू को समर्पित करें एक स...</td>\n",
              "      <td>Promotional</td>\n",
              "      <td>इस गांधी जयंतीआइए बापू को समर्पित करें एक स्वच...</td>\n",
              "      <td>[इस, ग, ध, जय, त, आइए, ब, प, क, समर, प, त, कर,...</td>\n",
              "    </tr>\n",
              "  </tbody>\n",
              "</table>\n",
              "</div>"
            ],
            "text/plain": [
              "   Unnamed: 0                                            Content     Category  \\\n",
              "0           0  ,\"While receiving an international call, if an...  Promotional   \n",
              "1           1  ,Non-violence is the greatest force at the dis...  Promotional   \n",
              "2           2  ,\"इस गांधी जयंतीआइए, बापू को समर्पित करें एक स...  Promotional   \n",
              "\n",
              "                                       Content_clean  \\\n",
              "0  While receiving an international call if an In...   \n",
              "1  Nonviolence is the greatest force at the dispo...   \n",
              "2  इस गांधी जयंतीआइए बापू को समर्पित करें एक स्वच...   \n",
              "\n",
              "                                    Content_tokenize  \n",
              "0  [while, receiving, an, international, call, if...  \n",
              "1  [nonviolence, is, the, greatest, force, at, th...  \n",
              "2  [इस, ग, ध, जय, त, आइए, ब, प, क, समर, प, त, कर,...  "
            ]
          },
          "metadata": {
            "tags": []
          },
          "execution_count": 12
        }
      ]
    },
    {
      "cell_type": "markdown",
      "metadata": {
        "id": "jEFBbHNrPmq8",
        "colab_type": "text"
      },
      "source": [
        "### Preprocessing Data: Using Stemming"
      ]
    },
    {
      "cell_type": "code",
      "metadata": {
        "id": "woqBqpFHPmrA",
        "colab_type": "code",
        "colab": {},
        "outputId": "9a41738d-c2af-4930-91e6-9f210882f891"
      },
      "source": [
        "import nltk\n",
        "ps=nltk.PorterStemmer()\n",
        "\n",
        "def stemming(tokenized_text):\n",
        "    if tokenized_text != None:\n",
        "        text=[ps.stem(word) for word in tokenized_text]\n",
        "        return text\n",
        "\n",
        "df[\"Content_stem\"]=df[\"Content_tokenize\"].apply(lambda x:stemming(x))\n",
        "df.head(3)"
      ],
      "execution_count": null,
      "outputs": [
        {
          "output_type": "execute_result",
          "data": {
            "text/html": [
              "<div>\n",
              "<style scoped>\n",
              "    .dataframe tbody tr th:only-of-type {\n",
              "        vertical-align: middle;\n",
              "    }\n",
              "\n",
              "    .dataframe tbody tr th {\n",
              "        vertical-align: top;\n",
              "    }\n",
              "\n",
              "    .dataframe thead th {\n",
              "        text-align: right;\n",
              "    }\n",
              "</style>\n",
              "<table border=\"1\" class=\"dataframe\">\n",
              "  <thead>\n",
              "    <tr style=\"text-align: right;\">\n",
              "      <th></th>\n",
              "      <th>Unnamed: 0</th>\n",
              "      <th>Content</th>\n",
              "      <th>Category</th>\n",
              "      <th>Content_clean</th>\n",
              "      <th>Content_tokenize</th>\n",
              "      <th>Content_stem</th>\n",
              "    </tr>\n",
              "  </thead>\n",
              "  <tbody>\n",
              "    <tr>\n",
              "      <td>0</td>\n",
              "      <td>0</td>\n",
              "      <td>,\"While receiving an international call, if an...</td>\n",
              "      <td>Promotional</td>\n",
              "      <td>While receiving an international call if an In...</td>\n",
              "      <td>[while, receiving, an, international, call, if...</td>\n",
              "      <td>[while, receiv, an, intern, call, if, an, indi...</td>\n",
              "    </tr>\n",
              "    <tr>\n",
              "      <td>1</td>\n",
              "      <td>1</td>\n",
              "      <td>,Non-violence is the greatest force at the dis...</td>\n",
              "      <td>Promotional</td>\n",
              "      <td>Nonviolence is the greatest force at the dispo...</td>\n",
              "      <td>[nonviolence, is, the, greatest, force, at, th...</td>\n",
              "      <td>[nonviol, is, the, greatest, forc, at, the, di...</td>\n",
              "    </tr>\n",
              "    <tr>\n",
              "      <td>2</td>\n",
              "      <td>2</td>\n",
              "      <td>,\"इस गांधी जयंतीआइए, बापू को समर्पित करें एक स...</td>\n",
              "      <td>Promotional</td>\n",
              "      <td>इस गांधी जयंतीआइए बापू को समर्पित करें एक स्वच...</td>\n",
              "      <td>[इस, ग, ध, जय, त, आइए, ब, प, क, समर, प, त, कर,...</td>\n",
              "      <td>[इस, ग, ध, जय, त, आइए, ब, प, क, समर, प, त, कर,...</td>\n",
              "    </tr>\n",
              "  </tbody>\n",
              "</table>\n",
              "</div>"
            ],
            "text/plain": [
              "   Unnamed: 0                                            Content     Category  \\\n",
              "0           0  ,\"While receiving an international call, if an...  Promotional   \n",
              "1           1  ,Non-violence is the greatest force at the dis...  Promotional   \n",
              "2           2  ,\"इस गांधी जयंतीआइए, बापू को समर्पित करें एक स...  Promotional   \n",
              "\n",
              "                                       Content_clean  \\\n",
              "0  While receiving an international call if an In...   \n",
              "1  Nonviolence is the greatest force at the dispo...   \n",
              "2  इस गांधी जयंतीआइए बापू को समर्पित करें एक स्वच...   \n",
              "\n",
              "                                    Content_tokenize  \\\n",
              "0  [while, receiving, an, international, call, if...   \n",
              "1  [nonviolence, is, the, greatest, force, at, th...   \n",
              "2  [इस, ग, ध, जय, त, आइए, ब, प, क, समर, प, त, कर,...   \n",
              "\n",
              "                                        Content_stem  \n",
              "0  [while, receiv, an, intern, call, if, an, indi...  \n",
              "1  [nonviol, is, the, greatest, forc, at, the, di...  \n",
              "2  [इस, ग, ध, जय, त, आइए, ब, प, क, समर, प, त, कर,...  "
            ]
          },
          "metadata": {
            "tags": []
          },
          "execution_count": 13
        }
      ]
    },
    {
      "cell_type": "markdown",
      "metadata": {
        "id": "tesC9djLPmrK",
        "colab_type": "text"
      },
      "source": [
        "### Preprocessing Data: Using a Lemmatizer"
      ]
    },
    {
      "cell_type": "code",
      "metadata": {
        "id": "nayu7snjPmrS",
        "colab_type": "code",
        "colab": {}
      },
      "source": [
        ""
      ],
      "execution_count": null,
      "outputs": []
    },
    {
      "cell_type": "code",
      "metadata": {
        "id": "97Xpm8spPmre",
        "colab_type": "code",
        "colab": {},
        "outputId": "c932ac3e-d094-4984-9249-77f232228acb"
      },
      "source": [
        "wn=nltk.WordNetLemmatizer()\n",
        "\n",
        "def lemmatizing(tokenized_text):\n",
        "    if tokenized_text != None:\n",
        "        text=[wn.lemmatize(word) for word in tokenized_text]\n",
        "        return text\n",
        "\n",
        "df[\"Content_lemmatized\"]=df[\"Content_tokenize\"].apply(lambda x: lemmatizing(x))\n",
        "df.head(3)"
      ],
      "execution_count": null,
      "outputs": [
        {
          "output_type": "execute_result",
          "data": {
            "text/html": [
              "<div>\n",
              "<style scoped>\n",
              "    .dataframe tbody tr th:only-of-type {\n",
              "        vertical-align: middle;\n",
              "    }\n",
              "\n",
              "    .dataframe tbody tr th {\n",
              "        vertical-align: top;\n",
              "    }\n",
              "\n",
              "    .dataframe thead th {\n",
              "        text-align: right;\n",
              "    }\n",
              "</style>\n",
              "<table border=\"1\" class=\"dataframe\">\n",
              "  <thead>\n",
              "    <tr style=\"text-align: right;\">\n",
              "      <th></th>\n",
              "      <th>Unnamed: 0</th>\n",
              "      <th>Content</th>\n",
              "      <th>Category</th>\n",
              "      <th>Content_clean</th>\n",
              "      <th>Content_tokenize</th>\n",
              "      <th>Content_stem</th>\n",
              "      <th>Content_lemmatized</th>\n",
              "    </tr>\n",
              "  </thead>\n",
              "  <tbody>\n",
              "    <tr>\n",
              "      <td>0</td>\n",
              "      <td>0</td>\n",
              "      <td>,\"While receiving an international call, if an...</td>\n",
              "      <td>Promotional</td>\n",
              "      <td>While receiving an international call if an In...</td>\n",
              "      <td>[while, receiving, an, international, call, if...</td>\n",
              "      <td>[while, receiv, an, intern, call, if, an, indi...</td>\n",
              "      <td>[while, receiving, an, international, call, if...</td>\n",
              "    </tr>\n",
              "    <tr>\n",
              "      <td>1</td>\n",
              "      <td>1</td>\n",
              "      <td>,Non-violence is the greatest force at the dis...</td>\n",
              "      <td>Promotional</td>\n",
              "      <td>Nonviolence is the greatest force at the dispo...</td>\n",
              "      <td>[nonviolence, is, the, greatest, force, at, th...</td>\n",
              "      <td>[nonviol, is, the, greatest, forc, at, the, di...</td>\n",
              "      <td>[nonviolence, is, the, greatest, force, at, th...</td>\n",
              "    </tr>\n",
              "    <tr>\n",
              "      <td>2</td>\n",
              "      <td>2</td>\n",
              "      <td>,\"इस गांधी जयंतीआइए, बापू को समर्पित करें एक स...</td>\n",
              "      <td>Promotional</td>\n",
              "      <td>इस गांधी जयंतीआइए बापू को समर्पित करें एक स्वच...</td>\n",
              "      <td>[इस, ग, ध, जय, त, आइए, ब, प, क, समर, प, त, कर,...</td>\n",
              "      <td>[इस, ग, ध, जय, त, आइए, ब, प, क, समर, प, त, कर,...</td>\n",
              "      <td>[इस, ग, ध, जय, त, आइए, ब, प, क, समर, प, त, कर,...</td>\n",
              "    </tr>\n",
              "  </tbody>\n",
              "</table>\n",
              "</div>"
            ],
            "text/plain": [
              "   Unnamed: 0                                            Content     Category  \\\n",
              "0           0  ,\"While receiving an international call, if an...  Promotional   \n",
              "1           1  ,Non-violence is the greatest force at the dis...  Promotional   \n",
              "2           2  ,\"इस गांधी जयंतीआइए, बापू को समर्पित करें एक स...  Promotional   \n",
              "\n",
              "                                       Content_clean  \\\n",
              "0  While receiving an international call if an In...   \n",
              "1  Nonviolence is the greatest force at the dispo...   \n",
              "2  इस गांधी जयंतीआइए बापू को समर्पित करें एक स्वच...   \n",
              "\n",
              "                                    Content_tokenize  \\\n",
              "0  [while, receiving, an, international, call, if...   \n",
              "1  [nonviolence, is, the, greatest, force, at, th...   \n",
              "2  [इस, ग, ध, जय, त, आइए, ब, प, क, समर, प, त, कर,...   \n",
              "\n",
              "                                        Content_stem  \\\n",
              "0  [while, receiv, an, intern, call, if, an, indi...   \n",
              "1  [nonviol, is, the, greatest, forc, at, the, di...   \n",
              "2  [इस, ग, ध, जय, त, आइए, ब, प, क, समर, प, त, कर,...   \n",
              "\n",
              "                                  Content_lemmatized  \n",
              "0  [while, receiving, an, international, call, if...  \n",
              "1  [nonviolence, is, the, greatest, force, at, th...  \n",
              "2  [इस, ग, ध, जय, त, आइए, ब, प, क, समर, प, त, कर,...  "
            ]
          },
          "metadata": {
            "tags": []
          },
          "execution_count": 14
        }
      ]
    },
    {
      "cell_type": "code",
      "metadata": {
        "id": "oW9xY1_9Pmrl",
        "colab_type": "code",
        "colab": {},
        "outputId": "d0589e55-ed59-46f8-f93e-58df72e4977d"
      },
      "source": [
        "df.isna().sum()"
      ],
      "execution_count": null,
      "outputs": [
        {
          "output_type": "execute_result",
          "data": {
            "text/plain": [
              "Unnamed: 0            0\n",
              "Content               0\n",
              "Category              0\n",
              "Content_clean         0\n",
              "Content_tokenize      0\n",
              "Content_stem          0\n",
              "Content_lemmatized    0\n",
              "dtype: int64"
            ]
          },
          "metadata": {
            "tags": []
          },
          "execution_count": 15
        }
      ]
    },
    {
      "cell_type": "code",
      "metadata": {
        "id": "8qqiRj75Pmrt",
        "colab_type": "code",
        "colab": {}
      },
      "source": [
        "### Model Building"
      ],
      "execution_count": null,
      "outputs": []
    },
    {
      "cell_type": "code",
      "metadata": {
        "id": "m4gKbV46Pmrz",
        "colab_type": "code",
        "colab": {}
      },
      "source": [
        "from sklearn.model_selection import train_test_split\n",
        "from sklearn.ensemble import RandomForestClassifier\n",
        "from sklearn.svm import SVC\n",
        "from sklearn.metrics import accuracy_score, classification_report, confusion_matrix\n",
        "from sklearn.pipeline import Pipeline\n",
        "from sklearn.feature_extraction.text import TfidfVectorizer\n",
        "from sklearn import preprocessing\n",
        "import pickle\n",
        "import seaborn as sns\n",
        "import matplotlib.pyplot as plt\n",
        "%matplotlib inline"
      ],
      "execution_count": null,
      "outputs": []
    },
    {
      "cell_type": "code",
      "metadata": {
        "id": "WkuCTz74Pmr5",
        "colab_type": "code",
        "colab": {}
      },
      "source": [
        "X_train,X_test,y_train,y_test=train_test_split(df['Content_clean'],df[\"Category\"],test_size=0.3)"
      ],
      "execution_count": null,
      "outputs": []
    },
    {
      "cell_type": "code",
      "metadata": {
        "id": "eWJAk2joPmsA",
        "colab_type": "code",
        "colab": {},
        "outputId": "5f0a7467-604d-4c7c-c8f4-088385c578e0"
      },
      "source": [
        "vectorizer=TfidfVectorizer()\n",
        "X=vectorizer.fit_transform(X_train)\n",
        "# print(vectorizer.get_feature_names())\n",
        "X.shape"
      ],
      "execution_count": null,
      "outputs": [
        {
          "output_type": "execute_result",
          "data": {
            "text/plain": [
              "(6909, 7986)"
            ]
          },
          "metadata": {
            "tags": []
          },
          "execution_count": 18
        }
      ]
    },
    {
      "cell_type": "code",
      "metadata": {
        "id": "iP17tV35PmsI",
        "colab_type": "code",
        "colab": {}
      },
      "source": [
        "clf=Pipeline([('tfidf',TfidfVectorizer()),('clf',RandomForestClassifier(n_estimators=100,n_jobs=-1))])"
      ],
      "execution_count": null,
      "outputs": []
    },
    {
      "cell_type": "code",
      "metadata": {
        "collapsed": true,
        "id": "wRWWwpGwPmsS",
        "colab_type": "code",
        "colab": {},
        "outputId": "44e76135-204e-47e5-9acd-fa1728fcdfbe"
      },
      "source": [
        "clf.fit(X_train,y_train)"
      ],
      "execution_count": null,
      "outputs": [
        {
          "output_type": "execute_result",
          "data": {
            "text/plain": [
              "Pipeline(memory=None,\n",
              "         steps=[('tfidf',\n",
              "                 TfidfVectorizer(analyzer='word', binary=False,\n",
              "                                 decode_error='strict',\n",
              "                                 dtype=<class 'numpy.float64'>,\n",
              "                                 encoding='utf-8', input='content',\n",
              "                                 lowercase=True, max_df=1.0, max_features=None,\n",
              "                                 min_df=1, ngram_range=(1, 1), norm='l2',\n",
              "                                 preprocessor=None, smooth_idf=True,\n",
              "                                 stop_words=None, strip_accents=None,\n",
              "                                 sublinear_tf=False,\n",
              "                                 token_pattern='...\n",
              "                 RandomForestClassifier(bootstrap=True, class_weight=None,\n",
              "                                        criterion='gini', max_depth=None,\n",
              "                                        max_features='auto',\n",
              "                                        max_leaf_nodes=None,\n",
              "                                        min_impurity_decrease=0.0,\n",
              "                                        min_impurity_split=None,\n",
              "                                        min_samples_leaf=1, min_samples_split=2,\n",
              "                                        min_weight_fraction_leaf=0.0,\n",
              "                                        n_estimators=100, n_jobs=-1,\n",
              "                                        oob_score=False, random_state=None,\n",
              "                                        verbose=0, warm_start=False))],\n",
              "         verbose=False)"
            ]
          },
          "metadata": {
            "tags": []
          },
          "execution_count": 20
        }
      ]
    },
    {
      "cell_type": "code",
      "metadata": {
        "id": "uhXkCaFhPmsZ",
        "colab_type": "code",
        "colab": {}
      },
      "source": [
        "y_pred=clf.predict(X_test)"
      ],
      "execution_count": null,
      "outputs": []
    },
    {
      "cell_type": "code",
      "metadata": {
        "scrolled": true,
        "id": "GBA4aqW3Pmsg",
        "colab_type": "code",
        "colab": {},
        "outputId": "863d8912-78ee-425c-f9fa-849693dba0d1"
      },
      "source": [
        "confusion_matrix(y_test,y_pred)"
      ],
      "execution_count": null,
      "outputs": [
        {
          "output_type": "execute_result",
          "data": {
            "text/plain": [
              "array([[  16,    0,    0,    0,    0],\n",
              "       [   0, 1741,    1,   35,    1],\n",
              "       [   0,   16,  355,   11,   17],\n",
              "       [   0,  248,   38,   52,    3],\n",
              "       [   0,    5,   19,    5,  398]])"
            ]
          },
          "metadata": {
            "tags": []
          },
          "execution_count": 22
        }
      ]
    },
    {
      "cell_type": "code",
      "metadata": {
        "id": "rVHBgE5HPmsm",
        "colab_type": "code",
        "colab": {},
        "outputId": "fe671c07-ab3f-480f-995e-00eb35c592a7"
      },
      "source": [
        "confusion_matrix = pd.crosstab(y_test, y_pred, rownames=['True Label'], colnames=['Predicted Label'], margins = True)\n",
        "sns.heatmap(confusion_matrix,linewidths=.5, annot=True,square=False,fmt='d')\n",
        "plt.show()"
      ],
      "execution_count": null,
      "outputs": [
        {
          "output_type": "display_data",
          "data": {
            "image/png": "[encoded data removed]",
            "text/plain": [
              "<Figure size 432x288 with 2 Axes>"
            ]
          },
          "metadata": {
            "tags": [],
            "needs_background": "light"
          }
        }
      ]
    },
    {
      "cell_type": "code",
      "metadata": {
        "scrolled": true,
        "id": "OXUmzMfkPmst",
        "colab_type": "code",
        "colab": {},
        "outputId": "58cb2dde-1de1-4c1e-92ca-2d49478f2c13"
      },
      "source": [
        "print(classification_report(y_test,y_pred))"
      ],
      "execution_count": null,
      "outputs": [
        {
          "output_type": "stream",
          "text": [
            "              precision    recall  f1-score   support\n",
            "\n",
            "         OTP       1.00      1.00      1.00        16\n",
            "     Primary       0.87      0.98      0.92      1778\n",
            " Promotional       0.86      0.89      0.87       399\n",
            "        Spam       0.50      0.15      0.23       341\n",
            "      Update       0.95      0.93      0.94       427\n",
            "\n",
            "    accuracy                           0.87      2961\n",
            "   macro avg       0.84      0.79      0.79      2961\n",
            "weighted avg       0.84      0.87      0.84      2961\n",
            "\n"
          ],
          "name": "stdout"
        }
      ]
    },
    {
      "cell_type": "code",
      "metadata": {
        "id": "oKj0pLVkPms2",
        "colab_type": "code",
        "colab": {},
        "outputId": "46e28592-63e0-4faa-b752-b0dc704f7d8d"
      },
      "source": [
        "accuracy_score(y_test,y_pred)"
      ],
      "execution_count": null,
      "outputs": [
        {
          "output_type": "execute_result",
          "data": {
            "text/plain": [
              "0.8652482269503546"
            ]
          },
          "metadata": {
            "tags": []
          },
          "execution_count": 25
        }
      ]
    },
    {
      "cell_type": "code",
      "metadata": {
        "id": "-83wIdANPms7",
        "colab_type": "code",
        "colab": {},
        "outputId": "8b3f5eb1-00aa-43d5-cd4e-1599e04a6ab6"
      },
      "source": [
        "df[\"Content\"][100]"
      ],
      "execution_count": null,
      "outputs": [
        {
          "output_type": "execute_result",
          "data": {
            "text/plain": [
              "',\"Your 9646345471 Expiry is due on 07/07/19. Why wait till expiry, Recharge with All-Rounder Pack & get remaining validity + new Pack validity.Dial *121# for more'"
            ]
          },
          "metadata": {
            "tags": []
          },
          "execution_count": 26
        }
      ]
    },
    {
      "cell_type": "code",
      "metadata": {
        "id": "lZ52a7P3PmtB",
        "colab_type": "code",
        "colab": {},
        "outputId": "c3c5e355-dd92-4c5f-8ea8-b3ce6817e5fb"
      },
      "source": [
        "clf.predict([df[\"Content\"][100]])"
      ],
      "execution_count": null,
      "outputs": [
        {
          "output_type": "execute_result",
          "data": {
            "text/plain": [
              "array(['Update'], dtype=object)"
            ]
          },
          "metadata": {
            "tags": []
          },
          "execution_count": 27
        }
      ]
    },
    {
      "cell_type": "code",
      "metadata": {
        "id": "HtU_HHR8PmtH",
        "colab_type": "code",
        "colab": {}
      },
      "source": [
        "pickle.dump(clf,open('model.pkl','wb'))"
      ],
      "execution_count": null,
      "outputs": []
    },
    {
      "cell_type": "code",
      "metadata": {
        "id": "BS0d9tsgPmtM",
        "colab_type": "code",
        "colab": {}
      },
      "source": [
        ""
      ],
      "execution_count": null,
      "outputs": []
    }
  ]
}